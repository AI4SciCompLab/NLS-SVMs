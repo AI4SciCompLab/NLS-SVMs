{
 "cells": [
  {
   "cell_type": "code",
   "execution_count": 1,
   "id": "fce3adb5-46ac-4893-8f4a-133e720087a2",
   "metadata": {
    "ExecuteTime": {
     "end_time": "2025-05-15T09:41:13.797460Z",
     "start_time": "2025-05-15T09:40:39.044307Z"
    }
   },
   "outputs": [
    {
     "name": "stdout",
     "output_type": "stream",
     "text": [
      "(50000, 1)\n"
     ]
    }
   ],
   "source": [
    "import numpy as np\n",
    "import pandas as pd\n",
    "from sklearn.metrics import r2_score\n",
    "\n",
    "sub_size = 200\n",
    "X_size = 50000 \n",
    "\n",
    "X = np.linspace(0,100, X_size)\n",
    "X_star = X\n",
    "X = X.reshape(-1,1)\n",
    "sorted_indices = np.linspace(0, X_size-1, sub_size, dtype=int) \n",
    "\n",
    "X_sub = X[sorted_indices]\n",
    "def RBF_kernel(X, Y, sigma2):\n",
    "    X = np.array(X)\n",
    "    Y = np.array(Y)\n",
    "    mat1 = np.sum(X**2, 1).reshape(-1, 1)\n",
    "    mat2 = np.sum(Y**2, 1)\n",
    "    mat = mat1 + mat2 - 2 * np.dot(X, Y.T)\n",
    "    mat = np.exp(-0.5 / sigma2 * mat)\n",
    "    return mat\n",
    "\n",
    "kTup = 10\n",
    "K = RBF_kernel(X_sub, X_sub, kTup)  \n",
    "\n",
    "eigenvalue, featurevector = np.linalg.eig(K)     \n",
    "A = eigenvalue             \n",
    "B = featurevector\n",
    "\n",
    "KK = RBF_kernel(X, X_sub, kTup)     \n",
    "K_1 = KK @ B\n",
    "A = np.sqrt(A)\n",
    "A = np.reciprocal(A)\n",
    "A = A * np.sqrt(sub_size)\n",
    "A1 = A.flatten()\n",
    "A_lam = np.diag(A1)\n",
    "\n",
    "F = K_1 @ A_lam\n",
    "X_F = F                                 \n",
    "\n",
    "X_F_1 = X_F[0,:]\n",
    "X_F_1 = X_F_1.reshape(1, sub_size)\n",
    "\n",
    "X = X_star\n",
    "X = X.reshape(-1,1)\n",
    "X = X[1:, :]\n",
    "KK = RBF_kernel(X, X_sub, kTup)    \n",
    "\n",
    "X_diag = np.diag(X.flatten())  \n",
    "X_sub_diag = np.diag(X_sub.flatten())  \n",
    "KK_D = ( KK @ X_sub_diag - X_diag @ KK ) / (kTup) \n",
    "\n",
    "eigenvalue, featurevector = np.linalg.eig(K)      \n",
    "A = eigenvalue             \n",
    "B = featurevector\n",
    "K_1 = KK @ B\n",
    "A = np.sqrt(A)\n",
    "A = np.reciprocal(A)\n",
    "A = A * np.sqrt(sub_size)\n",
    "A1 = A.flatten()\n",
    "A_lam = np.diag(A1)\n",
    "\n",
    "F = K_1 @ A_lam\n",
    "X_F = F                              \n",
    "\n",
    "eigenvalue, featurevector = np.linalg.eig(K)      \n",
    "A = eigenvalue             \n",
    "B = featurevector\n",
    "K_1 = KK_D @ B\n",
    "A = np.sqrt(A)\n",
    "A = np.reciprocal(A)\n",
    "A = A * np.sqrt(sub_size)\n",
    "A1 = A.flatten()\n",
    "A_lam = np.diag(A1)\n",
    "\n",
    "F_D = K_1 @ A_lam\n",
    "X_F_D = F_D                               \n",
    "\n",
    "gamma = 10000000\n",
    "\n",
    "r = X ** 3 + 2*X + X**2 * ((1+ 3 * X**2)/(1+X+X**3))\n",
    "p = 1\n",
    "E = np.eye(sub_size)\n",
    "I = np.ones((X_size, 1))\n",
    "f = -(X + (1+ 3 * X**2)/(1+X+X**3))\n",
    "\n",
    "A = (gamma * (f * X_F - X_F_D)).T\n",
    "B = (gamma * f).T\n",
    "zero = np.zeros((sub_size, 1))\n",
    "\n",
    "X11 = E +  A @ (f * X_F) - A @ X_F_D -  A @ f @ X_F_1\n",
    "X12 = X_F_1.T\n",
    "X13 = zero\n",
    "X1 = np.hstack((X11, X12, X13))\n",
    "X21 =  B @(f * X_F) - B @ X_F_D - B @ f @ X_F_1\n",
    "X22 = (np.array([1])).reshape(1, 1)\n",
    "X23 = (np.array([0])).reshape(1, 1)\n",
    "X2 = np.hstack((X21, X22, X23))\n",
    "X31 = X_F_1\n",
    "X32 = (np.array([0])).reshape(1, 1)\n",
    "X33 = (np.array([1])).reshape(1, 1)\n",
    "X3 = np.hstack((X31, X32, X33))\n",
    "\n",
    "X_solve = np.vstack((X1, X2, X3))\n",
    "\n",
    "Y1 = -A @ r - p * A @ f  \n",
    "Y2 = -B @ r -  p * B @ f\n",
    "Y3 = (np.array([1])).reshape(1, 1)\n",
    "\n",
    "Y_solve = np.vstack((Y1, Y2, Y3))\n",
    "W_lam_b = np.linalg.solve(X_solve, Y_solve)\n",
    "\n",
    "X = X_star\n",
    "X = X.reshape(-1,1)\n",
    "\n",
    "KK = RBF_kernel(X, X_sub, kTup)\n",
    "X_diag = np.diag(X.flatten())  \n",
    "X_sub_diag = np.diag(X_sub.flatten())   \n",
    "KK_D = (X_diag @ KK - KK @ X_sub_diag ) / (kTup) * -1\n",
    "\n",
    "eigenvalue, featurevector = np.linalg.eig(K)      \n",
    "A = eigenvalue             \n",
    "B = featurevector\n",
    "K_1 = KK @ B\n",
    "A = np.sqrt(A)\n",
    "A = np.reciprocal(A)\n",
    "A = A * np.sqrt(sub_size)\n",
    "A1 = A.flatten()\n",
    "A_lam = np.diag(A1)\n",
    "\n",
    "F = K_1 @ A_lam\n",
    "X_F = F                             \n",
    "\n",
    "W = W_lam_b[:sub_size, :]\n",
    "b = W_lam_b[-1]\n",
    "y_p =  np.real(np.dot(X_F,W) + b.item())\n",
    "\n",
    "print(y_p.shape)"
   ]
  },
  {
   "cell_type": "code",
   "execution_count": 2,
   "id": "9c0e04cf-8b70-4664-8b8b-a39784d4e0b0",
   "metadata": {
    "ExecuteTime": {
     "end_time": "2025-05-15T09:41:16.778158Z",
     "start_time": "2025-05-15T09:41:13.854029Z"
    }
   },
   "outputs": [
    {
     "data": {
      "image/png": "[encoded data removed]",
      "text/plain": [
       "<Figure size 576x432 with 1 Axes>"
      ]
     },
     "metadata": {
      "needs_background": "light"
     },
     "output_type": "display_data"
    },
    {
     "data": {
      "image/png": "[encoded data removed]",
      "text/plain": [
       "<Figure size 576x432 with 1 Axes>"
      ]
     },
     "metadata": {
      "needs_background": "light"
     },
     "output_type": "display_data"
    }
   ],
   "source": [
    "import matplotlib.pyplot as plt\n",
    "import numpy as np\n",
    "\n",
    "\n",
    "x = X \n",
    "a = y_p\n",
    "y = y_p             \n",
    "plt.figure(figsize=(8, 6))  \n",
    "plt.plot(x, y, label=\"y - x\", color=\"blue\", linestyle=\"-\", marker=\"o\")\n",
    "plt.title(\"figure\", fontsize=16)\n",
    "plt.xlabel(\" (x)\", fontsize=12)\n",
    "plt.ylabel(\" (y)\", fontsize=12)\n",
    "plt.grid(True)\n",
    "plt.legend(fontsize=12)\n",
    "plt.show()\n",
    "\n",
    "x = X \n",
    "y_t = np.exp((-x**2)/2)/(1+x+x**3) + x**2\n",
    "y_t = np.array(y_t)\n",
    "b = y_t\n",
    "y = y_t             \n",
    "plt.figure(figsize=(8, 6))  \n",
    "plt.plot(x, y, label=\"y - x\", color=\"blue\", linestyle=\"-\", marker=\"o\")\n",
    "plt.title(\"figure\", fontsize=16)\n",
    "plt.xlabel(\" (x)\", fontsize=12)\n",
    "plt.ylabel(\" (y)\", fontsize=12)\n",
    "plt.grid(True)\n",
    "plt.legend(fontsize=12)\n",
    "plt.show()"
   ]
  },
  {
   "cell_type": "code",
   "execution_count": 3,
   "id": "bc9ef6f9-699e-4740-b078-d54a69055b06",
   "metadata": {
    "ExecuteTime": {
     "end_time": "2025-05-15T09:41:16.794482Z",
     "start_time": "2025-05-15T09:41:16.779738Z"
    }
   },
   "outputs": [
    {
     "name": "stdout",
     "output_type": "stream",
     "text": [
      "R2_fsvm: 0.9999999999999799, mae_fsvm: 0.00013760854004525895, rmse_fsvm: 0.0004230196972496014, inf_norm_fsvm: 0.004403952586658932\n"
     ]
    }
   ],
   "source": [
    "from sklearn.metrics import mean_squared_error\n",
    "from sklearn.metrics import r2_score\n",
    "from sklearn.metrics import mean_absolute_error\n",
    "\n",
    "y_p_fsvm = a\n",
    "y_true = b\n",
    "R2_fsvm = r2_score(y_p_fsvm, y_true)\n",
    "mae_fsvm = mean_absolute_error(y_p_fsvm, y_true)\n",
    "rmse_fsvm = mean_squared_error(y_p_fsvm, y_true, squared = False)\n",
    "inf_norm_fsvm = np.linalg.norm(y_p_fsvm - y_true.reshape(-1, 1), ord = np.inf)\n",
    "\n",
    "print(f\"R2_fsvm: {R2_fsvm}, mae_fsvm: {mae_fsvm}, rmse_fsvm: {rmse_fsvm}, inf_norm_fsvm: {inf_norm_fsvm}\") "
   ]
  },
  {
   "cell_type": "code",
   "execution_count": 4,
   "id": "dd449ac3-a5c4-4ac4-8dd9-43e42a7a1831",
   "metadata": {
    "ExecuteTime": {
     "end_time": "2025-05-15T09:41:17.228165Z",
     "start_time": "2025-05-15T09:41:16.797046Z"
    }
   },
   "outputs": [
    {
     "name": "stdout",
     "output_type": "stream",
     "text": [
      "数据已保存至 fsvm_bigscale_01.csv\n"
     ]
    }
   ],
   "source": [
    "import numpy as np\n",
    "import pandas as pd\n",
    "\n",
    "data_to_save = pd.DataFrame({\n",
    "    'x': x.flatten(),\n",
    "    'y_pred_fsvm': y_p_fsvm.flatten(),\n",
    "    'y_exact': y_true.flatten()\n",
    "\n",
    "})\n",
    "\n",
    "data_to_save.to_csv('fsvm_bigscale_01.csv', index=False)\n",
    "print(\"fsvm_bigscale_01.csv\")"
   ]
  },
  {
   "cell_type": "code",
   "execution_count": null,
   "id": "3950b1ff-8be8-4979-ac19-d9ef0e38aaca",
   "metadata": {},
   "outputs": [],
   "source": []
  },
  {
   "cell_type": "code",
   "execution_count": null,
   "id": "937b2959-f4c7-44b2-9ad8-7fb9b723d6c2",
   "metadata": {},
   "outputs": [],
   "source": []
  }
 ],
 "metadata": {
  "kernelspec": {
   "display_name": "Python 3 (ipykernel)",
   "language": "python",
   "name": "python3"
  },
  "language_info": {
   "codemirror_mode": {
    "name": "ipython",
    "version": 3
   },
   "file_extension": ".py",
   "mimetype": "text/x-python",
   "name": "python",
   "nbconvert_exporter": "python",
   "pygments_lexer": "ipython3",
   "version": "3.9.12"
  }
 },
 "nbformat": 4,
 "nbformat_minor": 5
}
