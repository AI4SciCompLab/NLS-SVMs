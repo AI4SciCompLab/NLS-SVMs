{
 "cells": [
  {
   "cell_type": "code",
   "execution_count": 5,
   "id": "3747edf4-4a03-42aa-a05c-de3f546041fa",
   "metadata": {
    "ExecuteTime": {
     "end_time": "2025-09-04T06:10:24.733704Z",
     "start_time": "2025-09-04T06:10:24.257691Z"
    }
   },
   "outputs": [],
   "source": [
    "import numpy as np\n",
    "import pandas as pd\n",
    "from sklearn.metrics import r2_score\n",
    "\n",
    "sub_size = 50\n",
    "X_size = 10000\n",
    "\n",
    "X = np.linspace(0, 10, X_size)\n",
    "X = X.reshape(-1,1)\n",
    "\n",
    "# Evenly sample X_size points from sub_size points\n",
    "sorted_indices = np.linspace(0, X_size-1, sub_size, dtype=int)  # Generate sub_size evenly spaced indices.\n",
    "# random_indices = np.random.choice(len(X), size = sub_size, replace=False)  # Randomly Select Index\n",
    "# sorted_indices = np.sort(random_indices)\n",
    "\n",
    "X_sub = X[sorted_indices]\n",
    "\n",
    "def RBF_kernel(X, Y, sigma2):\n",
    "    X = np.array(X)\n",
    "    Y = np.array(Y)\n",
    "    mat1 = np.sum(X**2, 1).reshape(-1, 1)\n",
    "    mat2 = np.sum(Y**2, 1)\n",
    "    mat = mat1 + mat2 - 2 * np.dot(X, Y.T)\n",
    "    mat = np.exp(-0.5 / sigma2 * mat)\n",
    "    return mat\n",
    "\n",
    "kTup = 10 # Hyperparameter： sigma squared\n",
    "K = RBF_kernel(X_sub, X_sub, kTup)  # Kernel Matrix of Fixed-Size Support Vectors\n",
    "\n",
    "eigenvalue, featurevector = np.linalg.eig(K)      #Eigenvalue Decomposition of Kernel Matrix\n",
    "A = eigenvalue             \n",
    "B = featurevector\n",
    "\n",
    "KK = RBF_kernel(X, X_sub, kTup)     # Kernel Matrix Generated from the Total Sample Set and Subsample Sets\n",
    "\n",
    "K_1 = KK @ B\n",
    "A = np.sqrt(A)\n",
    "A = np.reciprocal(A)\n",
    "A = A * np.sqrt(sub_size)\n",
    "A1 = A.flatten()\n",
    "A_lam = np.diag(A1)\n",
    "\n",
    "F = K_1 @ A_lam\n",
    "X_F = F                                 # Feature Functions of the Sample Set\n",
    "\n",
    "X_F_1 = X_F[0,:]\n",
    "X_F_1 = X_F_1.reshape(1, sub_size)\n",
    "\n",
    "X_diag = np.diag(X.flatten())  # Sample Set Diagonal Matrix\n",
    "X_sub_diag = np.diag(X_sub.flatten())  # Subsample Diagonal Matrix\n",
    "KK_D = ( KK @ X_sub_diag - X_diag @ KK ) / (kTup)  # First-order derivative of the kernel function\n",
    "\n",
    "eigenvalue, featurevector = np.linalg.eig(K)      \n",
    "A = eigenvalue             \n",
    "B = featurevector\n",
    "K_1 = KK_D @ B\n",
    "A = np.sqrt(A)\n",
    "A = np.reciprocal(A)\n",
    "A = A * np.sqrt(sub_size)\n",
    "A1 = A.flatten()\n",
    "A_lam = np.diag(A1)\n",
    "\n",
    "F_D = K_1 @ A_lam\n",
    "X_F_D = F_D                                # First-Order Derivative of the Sample Set Feature Function\n",
    "\n",
    "gamma = 10000000  #Hyperparameter: gamma\n",
    "\n",
    "# Differential equation parameters\n",
    "r = 0 * np.sin(X)\n",
    "p = 1\n",
    "E = np.eye(sub_size)\n",
    "I = np.ones((X_size, 1))\n",
    "f = -1\n",
    "\n",
    "A = (gamma * (2 * X_F - X_F_D)).T\n",
    "B = (gamma * f * I).T\n",
    "zero = np.zeros((sub_size, 1))\n",
    "\n",
    "# Construct the matrix equation and solve it.\n",
    "X11 = E + f * A @ X_F - A @ X_F_D - f * A @ I @ X_F_1\n",
    "X12 = X_F_1.T\n",
    "X13 = zero\n",
    "X1 = np.hstack((X11, X12, X13))\n",
    "X21 = f * B @ X_F - B @ X_F_D -f * B @ I @ X_F_1\n",
    "X22 = (np.array([1])).reshape(1, 1)\n",
    "X23 = (np.array([0])).reshape(1, 1)\n",
    "X2 = np.hstack((X21, X22, X23))\n",
    "X31 = X_F_1\n",
    "X32 = (np.array([0])).reshape(1, 1)\n",
    "X33 = (np.array([1])).reshape(1, 1)\n",
    "X3 = np.hstack((X31, X32, X33))\n",
    "\n",
    "X_solve = np.vstack((X1, X2, X3))\n",
    "\n",
    "Y1 = -A @ r - f * p * A @ I  \n",
    "Y2 = -B @ r - f * p * B @ I\n",
    "Y3 = (np.array([1])).reshape(1, 1)\n",
    "\n",
    "Y_solve = np.vstack((Y1, Y2, Y3))\n",
    "W_lam_b = np.linalg.solve(X_solve, Y_solve)\n",
    "\n",
    "W = W_lam_b[:sub_size, :]\n",
    "b = W_lam_b[-1]\n",
    "\n",
    "#Calculate the prediction results.\n",
    "y_p = np.real(np.dot(X_F,W) + b.item())"
   ]
  },
  {
   "cell_type": "code",
   "execution_count": 6,
   "id": "20329e61-2106-4750-bf26-ca7e67251cf7",
   "metadata": {
    "ExecuteTime": {
     "end_time": "2025-09-04T06:10:25.459978Z",
     "start_time": "2025-09-04T06:10:25.040288Z"
    }
   },
   "outputs": [
    {
     "data": {
      "image/png": "[encoded data removed]",
      "text/plain": [
       "<Figure size 576x432 with 1 Axes>"
      ]
     },
     "metadata": {
      "needs_background": "light"
     },
     "output_type": "display_data"
    },
    {
     "data": {
      "image/png": "[encoded data removed]",
      "text/plain": [
       "<Figure size 576x432 with 1 Axes>"
      ]
     },
     "metadata": {
      "needs_background": "light"
     },
     "output_type": "display_data"
    }
   ],
   "source": [
    "import matplotlib.pyplot as plt\n",
    "import numpy as np\n",
    "\n",
    "#graph of the predicted values\n",
    "x = X \n",
    "y = y_p              \n",
    "a = y_p\n",
    "plt.figure(figsize=(8, 6))  \n",
    "plt.plot(x, y, label=\"y - x\", color=\"blue\", linestyle=\"-\", marker=\"o\")\n",
    "plt.title(\"figure\", fontsize=16)\n",
    "plt.xlabel(\" (x)\", fontsize=12)\n",
    "plt.ylabel(\" (y)\", fontsize=12)\n",
    "plt.grid(True)\n",
    "plt.legend(fontsize=12)\n",
    "plt.show()\n",
    "\n",
    "#graph of the true values\n",
    "x = X \n",
    "y_t = np.exp(-x)\n",
    "y_t = np.array(y_t)\n",
    "y = y_t               \n",
    "b=y\n",
    "plt.figure(figsize=(8, 6))  \n",
    "plt.plot(x, y, label=\"y - x\", color=\"blue\", linestyle=\"-\", marker=\"o\")\n",
    "plt.title(\"figure\", fontsize=16)\n",
    "plt.xlabel(\" (x)\", fontsize=12)\n",
    "plt.ylabel(\" (y)\", fontsize=12)\n",
    "plt.grid(True)\n",
    "plt.legend(fontsize=12)\n",
    "plt.show()"
   ]
  },
  {
   "cell_type": "code",
   "execution_count": 7,
   "id": "f4966866-7e53-426e-a2ea-c33b3f6818d8",
   "metadata": {
    "ExecuteTime": {
     "end_time": "2025-09-04T06:10:25.480577Z",
     "start_time": "2025-09-04T06:10:25.463845Z"
    }
   },
   "outputs": [
    {
     "name": "stdout",
     "output_type": "stream",
     "text": [
      "R2_fsvm: 0.9999999996452117, mae_fsvm: 3.1590113121547776e-06, rmse_fsvm: 3.7689523416909663e-06, inf_norm_fsvm: 9.749329698410802e-06\n"
     ]
    }
   ],
   "source": [
    "from sklearn.metrics import mean_squared_error\n",
    "from sklearn.metrics import r2_score\n",
    "from sklearn.metrics import mean_absolute_error\n",
    "\n",
    "y_p_fsvm = a\n",
    "y_true = b\n",
    "R2_fsvm = r2_score(y_p_fsvm, y_true)\n",
    "mae_fsvm = mean_absolute_error(y_p_fsvm, y_true)\n",
    "rmse_fsvm = mean_squared_error(y_p_fsvm, y_true, squared = False)\n",
    "inf_norm_fsvm = np.linalg.norm(y_p_fsvm - y_true.reshape(-1, 1), ord = np.inf)\n",
    "\n",
    "print(f\"R2_fsvm: {R2_fsvm}, mae_fsvm: {mae_fsvm}, rmse_fsvm: {rmse_fsvm}, inf_norm_fsvm: {inf_norm_fsvm}\") "
   ]
  },
  {
   "cell_type": "code",
   "execution_count": 8,
   "id": "aa8fc13b-5374-4fc9-af0a-6a4ab1f70d59",
   "metadata": {
    "ExecuteTime": {
     "end_time": "2025-09-04T06:10:25.885163Z",
     "start_time": "2025-09-04T06:10:25.853740Z"
    }
   },
   "outputs": [
    {
     "name": "stdout",
     "output_type": "stream",
     "text": [
      "数据已保存至 fsvm_02.csv\n"
     ]
    }
   ],
   "source": [
    "import numpy as np\n",
    "import pandas as pd\n",
    "\n",
    "data_to_save = pd.DataFrame({\n",
    "    'y_pred_fsvm': y_p_fsvm.flatten()\n",
    "})\n",
    "\n",
    "data_to_save.to_csv('fsvm_02.csv', index=False)\n",
    "print(\"fsvm_02.csv\")"
   ]
  },
  {
   "cell_type": "code",
   "execution_count": null,
   "id": "1a86d008-13f2-43af-a7ec-af15903a5e88",
   "metadata": {},
   "outputs": [],
   "source": []
  },
  {
   "cell_type": "code",
   "execution_count": null,
   "id": "f0f8157b-8b39-4b83-86c9-3de5e9afc33d",
   "metadata": {},
   "outputs": [],
   "source": []
  },
  {
   "cell_type": "code",
   "execution_count": null,
   "id": "26a5db1f-56c3-49d7-82b7-a4ea5ddb8585",
   "metadata": {},
   "outputs": [],
   "source": []
  },
  {
   "cell_type": "code",
   "execution_count": null,
   "id": "8aabb2b8-1974-4a35-b571-ecf1e4156422",
   "metadata": {},
   "outputs": [],
   "source": []
  },
  {
   "cell_type": "code",
   "execution_count": null,
   "id": "ab63e122-4fbe-4331-b1be-e525cc7b1c5b",
   "metadata": {},
   "outputs": [],
   "source": []
  }
 ],
 "metadata": {
  "kernelspec": {
   "display_name": "Python 3 (ipykernel)",
   "language": "python",
   "name": "python3"
  },
  "language_info": {
   "codemirror_mode": {
    "name": "ipython",
    "version": 3
   },
   "file_extension": ".py",
   "mimetype": "text/x-python",
   "name": "python",
   "nbconvert_exporter": "python",
   "pygments_lexer": "ipython3",
   "version": "3.9.12"
  }
 },
 "nbformat": 4,
 "nbformat_minor": 5
}
