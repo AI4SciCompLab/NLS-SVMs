{
 "cells": [
  {
   "cell_type": "code",
   "execution_count": 1,
   "id": "fce3adb5-46ac-4893-8f4a-133e720087a2",
   "metadata": {
    "ExecuteTime": {
     "end_time": "2025-05-11T06:40:05.728904Z",
     "start_time": "2025-05-11T06:40:05.225984Z"
    }
   },
   "outputs": [
    {
     "name": "stdout",
     "output_type": "stream",
     "text": [
      "(50, 999)\n",
      "(1, 999)\n"
     ]
    }
   ],
   "source": [
    "import numpy as np\n",
    "import pandas as pd\n",
    "from sklearn.metrics import r2_score\n",
    "\n",
    "sub_size = 50\n",
    "X_size = 1000\n",
    "\n",
    "X_star = np.linspace(0, 20, X_size)\n",
    "X = X_star.reshape(-1,1)\n",
    "# Evenly sample X_size points from sub_size points\n",
    "sorted_indices = np.linspace(0, X_size-1, sub_size, dtype=int)  # Generate sub_size evenly spaced indices.\n",
    "\n",
    "X_sub = X[sorted_indices]\n",
    "def RBF_kernel(X, Y, sigma2):\n",
    "    X = np.array(X)\n",
    "    Y = np.array(Y)\n",
    "    mat1 = np.sum(X**2, 1).reshape(-1, 1)\n",
    "    mat2 = np.sum(Y**2, 1)\n",
    "    mat = mat1 + mat2 - 2 * np.dot(X, Y.T)\n",
    "    mat = np.exp(-0.5 / sigma2 * mat)\n",
    "    return mat\n",
    "\n",
    "kTup = 1 # Hyperparameter： sigma squared\n",
    "K = RBF_kernel(X_sub, X_sub, kTup)  # Kernel Matrix of Fixed-Size Support Vectors\n",
    "\n",
    "eigenvalue, featurevector = np.linalg.eig(K)      #Eigenvalue Decomposition of Kernel Matrix\n",
    "A = eigenvalue             \n",
    "B = featurevector\n",
    "\n",
    "KK = RBF_kernel(X, X_sub, kTup)     # Kernel Matrix Generated from the Total Sample Set and Subsample Sets\n",
    "K_1 = KK @ B\n",
    "A = np.sqrt(A)\n",
    "A = np.reciprocal(A)\n",
    "A = A * np.sqrt(sub_size)\n",
    "A1 = A.flatten()\n",
    "A_lam = np.diag(A1)\n",
    "\n",
    "F = K_1 @ A_lam\n",
    "X_F = F                                     # Primal form of the Sample Set Feature Function\n",
    "X_F_1 = X_F[0,:]\n",
    "X_F_1 = X_F_1.reshape(1, sub_size)\n",
    "\n",
    "#fai(x1)\n",
    "X = X_star\n",
    "X = X.reshape(-1,1)\n",
    "KK = RBF_kernel(X, X_sub, kTup)        # Kernel Matrix Generated from the Total Sample Set and Subsample Sets\n",
    "\n",
    "X_diag = np.diag(X.flatten())  # Sample Set Diagonal Matrix\n",
    "X_sub_diag = np.diag(X_sub.flatten()) # Subsample Diagonal Matrix\n",
    "KK_D = ( KK @ X_sub_diag - X_diag @ KK ) / (kTup)  # First-order derivative of the kernel function\n",
    "\n",
    "eigenvalue, featurevector = np.linalg.eig(K)     \n",
    "A = eigenvalue             \n",
    "B = featurevector\n",
    "K_1 = KK_D @ B\n",
    "A = np.sqrt(A)\n",
    "A = np.reciprocal(A)\n",
    "A = A * np.sqrt(sub_size)\n",
    "A1 = A.flatten()\n",
    "A_lam = np.diag(A1)\n",
    "\n",
    "F_D = K_1 @ A_lam\n",
    "X_F_1_D = F_D[0,:]\n",
    "X_F_1_D = X_F_1_D.reshape(1, sub_size)                          \n",
    "\n",
    "X = X_star\n",
    "X = X.reshape(-1,1)\n",
    "X = X[1:, :]\n",
    "KK = RBF_kernel(X, X_sub, kTup)     \n",
    "\n",
    "X_diag = np.diag(X.flatten())  # Sample Set Diagonal Matrix\n",
    "X_sub_diag = np.diag(X_sub.flatten()) # Subsample Diagonal Matrix\n",
    "KK_D = ( KK @ X_sub_diag - X_diag @ KK ) / (kTup)  # First-order derivative of the kernel function\n",
    "\n",
    "eigenvalue, featurevector = np.linalg.eig(K)      \n",
    "A = eigenvalue             \n",
    "B = featurevector\n",
    "K_1 = KK @ B\n",
    "A = np.sqrt(A)\n",
    "A = np.reciprocal(A)\n",
    "A = A * np.sqrt(sub_size)\n",
    "A1 = A.flatten()\n",
    "A_lam = np.diag(A1)\n",
    "F = K_1 @ A_lam\n",
    "X_F = F                                      # Primal form of the Sample Set Feature Function\n",
    "\n",
    "eigenvalue, featurevector = np.linalg.eig(K)      \n",
    "A = eigenvalue             \n",
    "B = featurevector\n",
    "K_1 = KK_D @ B\n",
    "A = np.sqrt(A)\n",
    "A = np.reciprocal(A)\n",
    "A = A * np.sqrt(sub_size)\n",
    "A1 = A.flatten()\n",
    "A_lam = np.diag(A1)\n",
    "F_D = K_1 @ A_lam\n",
    "X_F_D = F_D                                 # First-Order Derivative of the Sample Set Feature Function\n",
    "\n",
    "X = X_star\n",
    "X = X.reshape(-1,1)\n",
    "X = X[1:, :]\n",
    "KK = RBF_kernel(X, X_sub, kTup)     \n",
    "\n",
    "X_diag_squa = np.square(X_diag)\n",
    "X_sub_diag_squa = np.square(X_sub_diag)\n",
    "\n",
    "# Second-order derivative of the kernel function\n",
    "KK_DD = KK/(-kTup) + ( KK @ X_sub_diag_squa -  2 * X_diag @ KK @ X_sub_diag  + X_diag_squa @ KK ) / (kTup) \n",
    "\n",
    "eigenvalue, featurevector = np.linalg.eig(K)    \n",
    "A = eigenvalue             \n",
    "B = featurevector\n",
    "K_1 = KK_DD @ B\n",
    "A = np.sqrt(A)\n",
    "A = np.reciprocal(A)\n",
    "A = A * np.sqrt(sub_size)\n",
    "A1 = A.flatten()\n",
    "A_lam = np.diag(A1)\n",
    "\n",
    "F_DD = K_1 @ A_lam\n",
    "X_F_DD = F_DD                                # Second-Order Derivative of the Sample Set Feature Function\n",
    "\n",
    "gamma = 10000000    #Hyperparameter: gamma\n",
    "\n",
    "# Differential equation parameters\n",
    "r = np.ones((X_size-1, 1))\n",
    "p1 = 0\n",
    "p2 = 0\n",
    "E = np.eye(sub_size)\n",
    "I = np.ones((X_size-1, 1))\n",
    "f1 = -0.3\n",
    "f2 = -1\n",
    "\n",
    "A = (gamma * (X_F_DD - f1 * X_F_D - f2 * X_F)).T\n",
    "B = (-1 * gamma * f2 * I).T\n",
    "\n",
    "print(A.shape)\n",
    "print(B.shape)\n",
    "zero = np.zeros((sub_size, 1))\n",
    "\n",
    "# Construct the matrix equation and solve it.\n",
    "X11 = E + A @ (X_F_DD - f1 * X_F_D - f2 * X_F)\n",
    "X12 = -1 * f2 * A @ I\n",
    "X13 = X_F_1.T\n",
    "X14 = X_F_1_D.T\n",
    "X1 = np.hstack((X11, X12, X13, X14))\n",
    "\n",
    "X21 = B @ (X_F_DD - f1 * X_F_D - f2 * X_F)\n",
    "X22 = -1 * f2 * B @ I\n",
    "X23 = (np.array([1])).reshape(1, 1)\n",
    "X24 = (np.array([0])).reshape(1, 1)\n",
    "X2 = np.hstack((X21, X22, X23, X24))\n",
    "\n",
    "X31 = X_F_1\n",
    "X32 = (np.array([1])).reshape(1, 1)\n",
    "X33 = (np.array([0])).reshape(1, 1)\n",
    "X34 = (np.array([0])).reshape(1, 1)\n",
    "X3 = np.hstack((X31, X32, X33, X34))\n",
    "\n",
    "X41 = X_F_1_D\n",
    "X42 = (np.array([0])).reshape(1, 1)\n",
    "X43 = (np.array([0])).reshape(1, 1)\n",
    "X44 = (np.array([0])).reshape(1, 1)\n",
    "X4  = np.hstack((X41, X42, X43, X44))\n",
    "\n",
    "X_solve = np.vstack((X1, X2, X3, X4))\n",
    "\n",
    "Y1 = A @ r   \n",
    "Y2 = B @ r \n",
    "Y3 = (np.array([p1])).reshape(1, 1)\n",
    "Y4 = (np.array([p2])).reshape(1, 1)\n",
    "\n",
    "Y_solve = np.vstack((Y1, Y2, Y3,Y4))\n",
    "W_lam_b = np.linalg.solve(X_solve, Y_solve)\n",
    "\n",
    "#Calculate the prediction results\n",
    "X = X_star\n",
    "X = X.reshape(-1,1)\n",
    "KK = RBF_kernel(X, X_sub, kTup)    # Kernel Matrix Generated from the Total Sample Set and Subsample Sets\n",
    "eigenvalue, featurevector = np.linalg.eig(K)     \n",
    "A = eigenvalue             \n",
    "B = featurevector\n",
    "K_1 = KK @ B\n",
    "A = np.sqrt(A)\n",
    "A = np.reciprocal(A)\n",
    "A = A * np.sqrt(sub_size)\n",
    "A1 = A.flatten()\n",
    "A_lam = np.diag(A1)\n",
    "F = K_1 @ A_lam\n",
    "X_F = F                                \n",
    "W = W_lam_b[:sub_size, :]\n",
    "b = W_lam_b[-3]\n",
    "\n",
    "y_p =  np.real(np.dot(X_F,W) + b.item())"
   ]
  },
  {
   "cell_type": "code",
   "execution_count": 2,
   "id": "9c0e04cf-8b70-4664-8b8b-a39784d4e0b0",
   "metadata": {
    "ExecuteTime": {
     "end_time": "2025-05-11T06:40:06.216632Z",
     "start_time": "2025-05-11T06:40:05.728904Z"
    }
   },
   "outputs": [
    {
     "data": {
      "image/png": "[encoded data removed]",
      "text/plain": [
       "<Figure size 720x432 with 1 Axes>"
      ]
     },
     "metadata": {
      "needs_background": "light"
     },
     "output_type": "display_data"
    }
   ],
   "source": [
    "import matplotlib.pyplot as plt\n",
    "import numpy as np\n",
    "\n",
    "#graph of the predicted values\n",
    "x = X \n",
    "a = y_p\n",
    "y = y_p            \n",
    "plt.figure(figsize=(10, 6))\n",
    "plt.plot(x, y, label=\"y(t)\")\n",
    "plt.title(\"$y'' + 0.3y' + y = 1$\")\n",
    "plt.xlabel(\"t\")\n",
    "plt.ylabel(\"y(t)\")\n",
    "plt.grid(True)\n",
    "plt.legend()\n",
    "plt.tight_layout()\n",
    "plt.show()"
   ]
  },
  {
   "cell_type": "code",
   "execution_count": 3,
   "id": "dbd66a31-306b-4841-9d2c-9f8ba0da3c35",
   "metadata": {
    "ExecuteTime": {
     "end_time": "2025-05-11T06:40:06.312446Z",
     "start_time": "2025-05-11T06:40:06.221664Z"
    }
   },
   "outputs": [
    {
     "data": {
      "image/png": "[encoded data removed]",
      "text/plain": [
       "<Figure size 720x432 with 1 Axes>"
      ]
     },
     "metadata": {
      "needs_background": "light"
     },
     "output_type": "display_data"
    }
   ],
   "source": [
    "import numpy as np\n",
    "import matplotlib.pyplot as plt\n",
    "\n",
    "#graph of the true values\n",
    "t = np.linspace(0, 20, 1000)\n",
    "y_t = np.exp(-0.15 * t) * (-np.cos(0.9899 * t) - 0.1515 * np.sin(0.9899 * t)) + 1\n",
    "y_t = np.array(y_t)\n",
    "b = y_t\n",
    "plt.figure(figsize=(10, 6))\n",
    "plt.plot(t, y, label=\"y(t)\")\n",
    "plt.title(\"$y'' + 0.3y' + y = 1$\")\n",
    "plt.xlabel(\"t\")\n",
    "plt.ylabel(\"y(t)\")\n",
    "plt.grid(True)\n",
    "plt.legend()\n",
    "plt.tight_layout()\n",
    "plt.show()"
   ]
  },
  {
   "cell_type": "code",
   "execution_count": 4,
   "id": "5998a198-06c7-431b-8f1d-7c2ec8b3bee4",
   "metadata": {
    "ExecuteTime": {
     "end_time": "2025-05-11T06:40:06.327557Z",
     "start_time": "2025-05-11T06:40:06.312446Z"
    }
   },
   "outputs": [
    {
     "name": "stdout",
     "output_type": "stream",
     "text": [
      "R2_fsvm: 0.9999695787500967, mae_fsvm: 0.0014285509596391472, rmse_fsvm: 0.0016617795751122971, inf_norm_fsvm: 0.0030189092328684053\n",
      "数据已保存至 fsvm_07.csv\n"
     ]
    }
   ],
   "source": [
    "from sklearn.metrics import mean_squared_error\n",
    "from sklearn.metrics import r2_score\n",
    "from sklearn.metrics import mean_absolute_error\n",
    "\n",
    "y_p_fsvm = a\n",
    "y_true = b\n",
    "R2_fsvm = r2_score(y_p_fsvm, y_true.reshape(-1, 1))\n",
    "mae_fsvm = mean_absolute_error(y_p_fsvm, y_true.reshape(-1, 1))\n",
    "rmse_fsvm = mean_squared_error(y_p_fsvm, y_true.reshape(-1, 1), squared = False)\n",
    "inf_norm_fsvm = np.linalg.norm(y_p_fsvm - y_true.reshape(-1, 1), ord = np.inf)\n",
    "\n",
    "print(f\"R2_fsvm: {R2_fsvm}, mae_fsvm: {mae_fsvm}, rmse_fsvm: {rmse_fsvm}, inf_norm_fsvm: {inf_norm_fsvm}\") \n",
    "\n",
    "\n",
    "import pandas as pd\n",
    "\n",
    "data_to_save = pd.DataFrame({\n",
    "    'y_pred_fsvm': y_p_fsvm.flatten()\n",
    "})\n",
    "\n",
    "# 保存为 CSV 文件\n",
    "data_to_save.to_csv('fsvm_07.csv', index=False)\n",
    "print(\" fsvm_07.csv\")"
   ]
  },
  {
   "cell_type": "code",
   "execution_count": null,
   "id": "9ccd9fdd",
   "metadata": {},
   "outputs": [],
   "source": []
  }
 ],
 "metadata": {
  "kernelspec": {
   "display_name": "Python 3 (ipykernel)",
   "language": "python",
   "name": "python3"
  },
  "language_info": {
   "codemirror_mode": {
    "name": "ipython",
    "version": 3
   },
   "file_extension": ".py",
   "mimetype": "text/x-python",
   "name": "python",
   "nbconvert_exporter": "python",
   "pygments_lexer": "ipython3",
   "version": "3.9.12"
  }
 },
 "nbformat": 4,
 "nbformat_minor": 5
}
