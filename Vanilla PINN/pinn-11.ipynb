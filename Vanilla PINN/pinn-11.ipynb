{
 "cells": [
  {
   "cell_type": "code",
   "execution_count": 1,
   "id": "27729df1",
   "metadata": {
    "ExecuteTime": {
     "end_time": "2025-05-11T08:18:26.703818Z",
     "start_time": "2025-05-11T08:04:49.439568Z"
    }
   },
   "outputs": [
    {
     "name": "stdout",
     "output_type": "stream",
     "text": [
      "Epoch     0, Loss: 5.3414e+00\n",
      "Epoch  1000, Loss: 6.1388e-04\n",
      "Epoch  2000, Loss: 1.7500e-05\n",
      "Epoch  3000, Loss: 1.0007e-05\n",
      "Epoch  4000, Loss: 9.3715e-06\n",
      "Epoch  5000, Loss: 8.7063e-06\n",
      "Epoch  6000, Loss: 3.8349e-05\n",
      "Epoch  7000, Loss: 7.3910e-06\n",
      "Epoch  8000, Loss: 4.0584e-05\n",
      "Epoch  9000, Loss: 1.0287e-05\n"
     ]
    },
    {
     "data": {
      "image/png": "[encoded data removed]",
      "text/plain": [
       "<Figure size 576x288 with 1 Axes>"
      ]
     },
     "metadata": {
      "needs_background": "light"
     },
     "output_type": "display_data"
    }
   ],
   "source": [
    "import torch\n",
    "import torch.nn as nn\n",
    "import numpy as np\n",
    "import matplotlib.pyplot as plt\n",
    "\n",
    "# Define Physics-Informed Neural Network (PINN)\n",
    "class PINN(nn.Module):\n",
    "    def __init__(self):\n",
    "        super(PINN, self).__init__()\n",
    "        self.layers = nn.Sequential(\n",
    "            nn.Linear(1, 20),    # Input layer (1-dimensional)\n",
    "            nn.Tanh(),            # Activation function\n",
    "            nn.Linear(20, 20),    # Hidden layer\n",
    "            nn.Tanh(),\n",
    "            nn.Linear(20, 20),    # Hidden layer\n",
    "            nn.Tanh(),\n",
    "            nn.Linear(20, 1)      # Output layer (1-dimensional)\n",
    "        )\n",
    "    \n",
    "    def forward(self, x):\n",
    "        return self.layers(x)\n",
    "\n",
    "# Compute loss function (includes differential equation residual and boundary conditions)\n",
    "def compute_loss(model, x_internal):\n",
    "    x_internal.requires_grad = True\n",
    "    y = model(x_internal)\n",
    "    \n",
    "    # Compute first derivative\n",
    "    dy_dx = torch.autograd.grad(\n",
    "        outputs=y,\n",
    "        inputs=x_internal,\n",
    "        grad_outputs=torch.ones_like(y),\n",
    "        create_graph=True\n",
    "    )[0]\n",
    "    \n",
    "    # Compute second derivative\n",
    "    d2y_dx2 = torch.autograd.grad(\n",
    "        outputs=dy_dx,\n",
    "        inputs=x_internal,\n",
    "        grad_outputs=torch.ones_like(dy_dx),\n",
    "        create_graph=True\n",
    "    )[0]\n",
    "    \n",
    "    # Handle cases where x is close to 0 (avoid division by zero)\n",
    "    epsilon = 1e-8\n",
    "    x_safe = torch.where(x_internal < epsilon, epsilon, x_internal)\n",
    "    \n",
    "    # Compute differential equation residual\n",
    "    residual = d2y_dx2 + (1/x_safe)*dy_dx + torch.cos(x_internal) + torch.sin(x_internal)/x_safe\n",
    "    loss_equation = torch.mean(residual**2)\n",
    "    \n",
    "    # Compute boundary condition losses\n",
    "    # Boundary condition at x=0\n",
    "    x0 = torch.zeros(1, 1)\n",
    "    y0 = model(x0)\n",
    "    loss_bc0 = torch.mean((y0 - 1.0)**2)\n",
    "    \n",
    "    # Boundary condition at x=1\n",
    "    x1 = torch.ones(1, 1)\n",
    "    y1 = model(x1)\n",
    "    loss_bc1 = torch.mean((y1 - torch.cos(torch.tensor(1.0)))**2)\n",
    "    \n",
    "    total_loss = loss_equation + loss_bc0 + loss_bc1\n",
    "    return total_loss\n",
    "\n",
    "# Training parameters\n",
    "epochs = 10000       # Number of training epochs\n",
    "lr = 0.001           # Learning rate\n",
    "n_internal = 1000     # Number of internal points\n",
    "\n",
    "# Initialize model and optimizer\n",
    "model = PINN()\n",
    "optimizer = torch.optim.Adam(model.parameters(), lr=lr)\n",
    "\n",
    "# Generate training data (internal points uniformly distributed in (0,1] interval)\n",
    "x_internal = torch.linspace(0.01, 1, n_internal).view(-1, 1)\n",
    "\n",
    "# Training process\n",
    "loss_history = []\n",
    "for epoch in range(epochs):\n",
    "    optimizer.zero_grad()\n",
    "    loss = compute_loss(model, x_internal)\n",
    "    loss.backward()\n",
    "    optimizer.step()\n",
    "    \n",
    "    loss_history.append(loss.item())\n",
    "    if epoch % 1000 == 0:  # Print loss every 1000 epochs\n",
    "        print(f'Epoch {epoch:5d}, Loss: {loss.item():.4e}')\n",
    "\n",
    "# Plot prediction results compared with exact solution\n",
    "x_test = torch.linspace(0, 1, 1000).view(-1, 1)\n",
    "with torch.no_grad():\n",
    "    y_pred = model(x_test).numpy()\n",
    "\n",
    "y_exact = np.cos(x_test.numpy())\n",
    "\n",
    "import os\n",
    "os.environ['KMP_DUPLICATE_LIB_OK'] = 'TRUE'\n",
    "plt.figure(figsize=(8, 4))\n",
    "plt.plot(x_test, y_pred, 'b--', linewidth=2, label='PINN Prediction')\n",
    "plt.plot(x_test, y_exact, 'r-', linewidth=1, label='Exact Solution')\n",
    "plt.xlabel('Time t')\n",
    "plt.ylabel('Displacement u(t)')\n",
    "plt.legend()\n",
    "plt.title('Comparison of PINN and Exact Solution')\n",
    "plt.grid(True)\n",
    "plt.show()"
   ]
  },
  {
   "cell_type": "code",
   "execution_count": 2,
   "id": "bf593200",
   "metadata": {
    "ExecuteTime": {
     "end_time": "2025-05-11T08:18:27.723780Z",
     "start_time": "2025-05-11T08:18:26.706995Z"
    }
   },
   "outputs": [
    {
     "name": "stdout",
     "output_type": "stream",
     "text": [
      "R2_pinn: 0.9999999815206188, mae_pinn: 1.62336236826377e-05, rmse_pinn: 1.887943835754413e-05, inf_norm_pinn: 3.319978713989258e-05\n"
     ]
    }
   ],
   "source": [
    "from sklearn.metrics import mean_squared_error\n",
    "from sklearn.metrics import r2_score\n",
    "from sklearn.metrics import mean_absolute_error\n",
    "y_exact = y_exact.reshape(-1, 1)\n",
    "y_p_pinn = y_pred\n",
    "y_true = y_exact\n",
    "R2_pinn = r2_score(y_p_pinn, y_true)\n",
    "mae_pinn = mean_absolute_error(y_p_pinn, y_true)\n",
    "rmse_pinn = mean_squared_error(y_p_pinn, y_true, squared=False)\n",
    "inf_norm_pinn = np.linalg.norm(y_p_pinn - y_true, ord = np.inf)\n",
    "\n",
    "print(f\"R2_pinn: {R2_pinn}, mae_pinn: {mae_pinn}, rmse_pinn: {rmse_pinn}, inf_norm_pinn: {inf_norm_pinn}\")"
   ]
  },
  {
   "cell_type": "code",
   "execution_count": 3,
   "id": "321e3f34",
   "metadata": {
    "ExecuteTime": {
     "end_time": "2025-05-11T08:18:28.327662Z",
     "start_time": "2025-05-11T08:18:27.727236Z"
    }
   },
   "outputs": [
    {
     "name": "stdout",
     "output_type": "stream",
     "text": [
      "数据已保存至 pinn_11.csv\n"
     ]
    }
   ],
   "source": [
    "import numpy as np\n",
    "import pandas as pd\n",
    "\n",
    "data_to_save = pd.DataFrame({\n",
    "    'x': x_test.flatten(),\n",
    "    'y_pred_pinn': y_p_pinn.flatten(),\n",
    "    'y_exact': y_true.flatten()\n",
    "})\n",
    "\n",
    "data_to_save.to_csv('pinn_11.csv', index=False)\n",
    "print(\"pinn_11.csv\")"
   ]
  },
  {
   "cell_type": "code",
   "execution_count": null,
   "id": "6f6c7724",
   "metadata": {},
   "outputs": [],
   "source": []
  }
 ],
 "metadata": {
  "kernelspec": {
   "display_name": "Python 3 (ipykernel)",
   "language": "python",
   "name": "python3"
  },
  "language_info": {
   "codemirror_mode": {
    "name": "ipython",
    "version": 3
   },
   "file_extension": ".py",
   "mimetype": "text/x-python",
   "name": "python",
   "nbconvert_exporter": "python",
   "pygments_lexer": "ipython3",
   "version": "3.9.12"
  }
 },
 "nbformat": 4,
 "nbformat_minor": 5
}
