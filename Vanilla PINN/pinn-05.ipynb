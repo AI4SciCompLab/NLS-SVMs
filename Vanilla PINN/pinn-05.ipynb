{
 "cells": [
  {
   "cell_type": "code",
   "execution_count": 1,
   "id": "b1325ca7-719f-40b8-a393-f29136b206e3",
   "metadata": {
    "ExecuteTime": {
     "end_time": "2025-05-11T06:13:21.544457Z",
     "start_time": "2025-05-11T06:10:35.143396Z"
    }
   },
   "outputs": [
    {
     "name": "stdout",
     "output_type": "stream",
     "text": [
      "Epoch     0, Loss: 0.784040\n",
      "Epoch  1000, Loss: 0.000099\n",
      "Epoch  2000, Loss: 0.000026\n",
      "Epoch  3000, Loss: 0.000007\n",
      "Epoch  4000, Loss: 0.000005\n",
      "Epoch  5000, Loss: 0.000004\n",
      "Epoch  6000, Loss: 0.000004\n",
      "Epoch  7000, Loss: 0.000053\n",
      "Epoch  8000, Loss: 0.000004\n",
      "Epoch  9000, Loss: 0.000004\n"
     ]
    },
    {
     "data": {
      "image/png": "[encoded data removed]",
      "text/plain": [
       "<Figure size 576x360 with 1 Axes>"
      ]
     },
     "metadata": {
      "needs_background": "light"
     },
     "output_type": "display_data"
    }
   ],
   "source": [
    "import torch\n",
    "import torch.nn as nn\n",
    "import numpy as np\n",
    "import matplotlib.pyplot as plt\n",
    "\n",
    "# Define the Physics-Informed Neural Network (PINN)\n",
    "class PINN(nn.Module):\n",
    "    def __init__(self):\n",
    "        super().__init__()\n",
    "        self.net = nn.Sequential(\n",
    "            nn.Linear(1, 20),    # Input layer: time t (dimension 1)\n",
    "            nn.Tanh(),           # Activation function\n",
    "            nn.Linear(20, 20),   # Hidden layer\n",
    "            nn.Tanh(),\n",
    "            nn.Linear(20, 20),\n",
    "            nn.Tanh(),\n",
    "            nn.Linear(20, 1)     # Output layer: y(t) (dimension 1)\n",
    "        )\n",
    "    \n",
    "    def forward(self, t):\n",
    "        return self.net(t)\n",
    "\n",
    "# Compute the loss function\n",
    "def compute_loss(model, t_ode, t_initial):\n",
    "    # Initial condition loss (y = -1 when t = 0)\n",
    "    y_initial = model(t_initial)\n",
    "    loss_initial = torch.mean((y_initial + 1)**2)  # Analytical solution: y(0) = -1\n",
    "    \n",
    "    # ODE residual loss (y' - y^2)\n",
    "    y_ode = model(t_ode)\n",
    "    # Compute dy/dt (must ensure t_ode.requires_grad=True)\n",
    "    dydt = torch.autograd.grad(\n",
    "        outputs=y_ode,\n",
    "        inputs=t_ode,\n",
    "        grad_outputs=torch.ones_like(y_ode),\n",
    "        create_graph=True,       # Keep the computation graph for higher-order derivatives\n",
    "        retain_graph=True        # Retain the graph to avoid memory release\n",
    "    )[0]\n",
    "    residual = dydt - y_ode**2   # Differential equation residual\n",
    "    loss_ode = torch.mean(residual**2)\n",
    "    \n",
    "    return loss_initial + loss_ode\n",
    "\n",
    "# Training setup\n",
    "model = PINN()\n",
    "optimizer = torch.optim.Adam(model.parameters(), lr=0.001)\n",
    "epochs = 10000\n",
    "\n",
    "# Training loop\n",
    "for epoch in range(epochs):\n",
    "    # Enable gradient tracking when generating input tensors\n",
    "    t_ode = torch.rand(600, 1, requires_grad=True)  # Key: set requires_grad=True\n",
    "    t_initial = torch.zeros(1, 1, requires_grad=True)\n",
    "    \n",
    "    optimizer.zero_grad()\n",
    "    loss = compute_loss(model, t_ode, t_initial)\n",
    "    \n",
    "    loss.backward()\n",
    "    optimizer.step()\n",
    "    \n",
    "    if epoch % 1000 == 0:\n",
    "        print(f'Epoch {epoch:5d}, Loss: {loss.item():.6f}')\n",
    "\n",
    "# Testing and visualization\n",
    "t_test = torch.linspace(0, 1, 600).view(-1, 1)\n",
    "with torch.no_grad():\n",
    "    y_pred = model(t_test).numpy()\n",
    "y_exact = -1 / (1 + t_test.numpy())\n",
    "import os\n",
    "os.environ['KMP_DUPLICATE_LIB_OK'] = 'TRUE'\n",
    "plt.figure(figsize=(8,5))\n",
    "plt.plot(t_test.numpy(), y_exact, label='Exact Solution', linewidth=2)\n",
    "plt.plot(t_test.numpy(), y_pred, '--', label='PINN Prediction', linewidth=2)\n",
    "plt.xlabel('t', fontsize=12)\n",
    "plt.ylabel('y(t)', fontsize=12)\n",
    "plt.title('Solution of ODE: $y\\' = y^2$', fontsize=14)\n",
    "plt.legend()\n",
    "plt.grid(True)\n",
    "plt.show()"
   ]
  },
  {
   "cell_type": "code",
   "execution_count": 3,
   "id": "c603df5d",
   "metadata": {
    "ExecuteTime": {
     "end_time": "2025-05-11T06:13:22.465330Z",
     "start_time": "2025-05-11T06:13:22.452125Z"
    }
   },
   "outputs": [
    {
     "name": "stdout",
     "output_type": "stream",
     "text": [
      "R2_pinn: 0.9999451343155362, mae_pinn: 0.0010349189396947622, rmse_pinn: 0.00103728286921978, inf_norm_pinn: 0.0011300444602966309\n"
     ]
    }
   ],
   "source": [
    "from sklearn.metrics import mean_squared_error\n",
    "from sklearn.metrics import r2_score\n",
    "from sklearn.metrics import mean_absolute_error\n",
    "y_exact = y_exact.reshape(-1, 1)\n",
    "y_p_pinn = y_pred\n",
    "y_true = y_exact\n",
    "R2_pinn = r2_score(y_p_pinn, y_true)\n",
    "mae_pinn = mean_absolute_error(y_p_pinn, y_true)\n",
    "rmse_pinn = mean_squared_error(y_p_pinn, y_true, squared=False)\n",
    "inf_norm_pinn = np.linalg.norm(y_p_pinn - y_true, ord = np.inf)\n",
    "\n",
    "print(f\"R2_pinn: {R2_pinn}, mae_pinn: {mae_pinn}, rmse_pinn: {rmse_pinn}, inf_norm_pinn: {inf_norm_pinn}\")"
   ]
  },
  {
   "cell_type": "code",
   "execution_count": 4,
   "id": "5ae086c9",
   "metadata": {
    "ExecuteTime": {
     "end_time": "2025-05-11T06:13:23.056614Z",
     "start_time": "2025-05-11T06:13:22.467223Z"
    }
   },
   "outputs": [
    {
     "name": "stdout",
     "output_type": "stream",
     "text": [
      "数据已保存至 pinn_05.csv\n"
     ]
    }
   ],
   "source": [
    "import numpy as np\n",
    "import pandas as pd\n",
    "\n",
    "data_to_save = pd.DataFrame({\n",
    "    'x': t_test.flatten(),\n",
    "    'y_pred_pinn': y_p_pinn.flatten(),\n",
    "    'y_exact': y_true.flatten()\n",
    "})\n",
    "\n",
    "data_to_save.to_csv('pinn_05.csv', index=False)\n",
    "print(\"pinn_05.csv\")"
   ]
  },
  {
   "cell_type": "code",
   "execution_count": null,
   "id": "2776b45f",
   "metadata": {},
   "outputs": [],
   "source": []
  }
 ],
 "metadata": {
  "kernelspec": {
   "display_name": "Python 3 (ipykernel)",
   "language": "python",
   "name": "python3"
  },
  "language_info": {
   "codemirror_mode": {
    "name": "ipython",
    "version": 3
   },
   "file_extension": ".py",
   "mimetype": "text/x-python",
   "name": "python",
   "nbconvert_exporter": "python",
   "pygments_lexer": "ipython3",
   "version": "3.9.12"
  }
 },
 "nbformat": 4,
 "nbformat_minor": 5
}
