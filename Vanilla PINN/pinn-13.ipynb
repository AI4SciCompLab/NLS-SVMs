{
 "cells": [
  {
   "cell_type": "code",
   "execution_count": 1,
   "id": "c29c3e66",
   "metadata": {
    "ExecuteTime": {
     "end_time": "2025-05-11T09:04:13.447951Z",
     "start_time": "2025-05-11T08:39:38.204594Z"
    }
   },
   "outputs": [
    {
     "name": "stdout",
     "output_type": "stream",
     "text": [
      "Epoch     0 | Loss: 5.002e+08 | LR: 1.0e-03\n",
      "Epoch  1000 | Loss: 4.125e-01 | LR: 1.0e-03\n",
      "Epoch  2000 | Loss: 3.739e-01 | LR: 1.0e-03\n",
      "Epoch  3000 | Loss: 3.175e-01 | LR: 1.0e-03\n",
      "Epoch  4000 | Loss: 2.484e-01 | LR: 1.0e-03\n",
      "Epoch  5000 | Loss: 1.778e-01 | LR: 1.0e-03\n",
      "Epoch  6000 | Loss: 1.198e-01 | LR: 1.0e-03\n",
      "Epoch  7000 | Loss: 4.768e-01 | LR: 1.0e-03\n",
      "Epoch  8000 | Loss: 3.904e+01 | LR: 1.0e-03\n",
      "Epoch  9000 | Loss: 1.805e-01 | LR: 1.0e-03\n"
     ]
    },
    {
     "data": {
      "image/png": "[encoded data removed]",
      "text/plain": [
       "<Figure size 576x288 with 1 Axes>"
      ]
     },
     "metadata": {
      "needs_background": "light"
     },
     "output_type": "display_data"
    }
   ],
   "source": [
    "import torch\n",
    "import torch.nn as nn\n",
    "import numpy as np\n",
    "import matplotlib.pyplot as plt\n",
    "\n",
    "# ===================== 1. Define Neural Network Model (Enforcing Boundary Conditions) =====================\n",
    "class PINN(nn.Module):\n",
    "    def __init__(self):\n",
    "        super(PINN, self).__init__()\n",
    "        self.net = nn.Sequential(\n",
    "            nn.Linear(1, 40),          # Input layer: 1 neuron\n",
    "            nn.Tanh(),\n",
    "            nn.Linear(40, 40),         # Deeper network architecture\n",
    "            nn.Tanh(),\n",
    "            nn.Linear(40, 40),\n",
    "            nn.Tanh(),\n",
    "            nn.Linear(40, 1)\n",
    "        )\n",
    "    \n",
    "    def forward(self, x):\n",
    "        # Base solution A(x) = 1 + (e-1)x, strictly satisfying boundary conditions y(0)=1, y(1)=e\n",
    "        A = 1 + (np.e - 1) * x\n",
    "        # Neural network output N(x), multiplied by x(1-x) to ensure zero residual at boundaries\n",
    "        N = self.net(x)\n",
    "        return A + x * (1 - x) * N\n",
    "\n",
    "# ===================== 2. Initialize Model and Optimizer =====================\n",
    "model = PINN()\n",
    "optimizer = torch.optim.Adam(model.parameters(), lr=0.001)\n",
    "scheduler = torch.optim.lr_scheduler.ReduceLROnPlateau(optimizer, 'min', patience=500, factor=0.5)\n",
    "\n",
    "# ===================== 3. Generate Training Data =====================\n",
    "epsilon = 1e-6  # Avoid numerical issues at x=0\n",
    "N_train = 1000  # Number of internal points\n",
    "\n",
    "# Internal point sampling (increased density near x=0)\n",
    "x_f = torch.linspace(0.0 + epsilon, 1.0 - epsilon, N_train).reshape(-1, 1)\n",
    "x_f.requires_grad = True  # Need to compute gradients\n",
    "\n",
    "# ===================== 4. Training Loop =====================\n",
    "loss_history = []\n",
    "for epoch in range(10000):  # Increased number of training epochs\n",
    "    optimizer.zero_grad()\n",
    "    \n",
    "    # --------------- Forward Pass ---------------\n",
    "    y_pred = model(x_f)\n",
    "    \n",
    "    # --------------- Compute Derivatives ---------------\n",
    "    dy_dx = torch.autograd.grad(\n",
    "        outputs=y_pred,\n",
    "        inputs=x_f,\n",
    "        grad_outputs=torch.ones_like(y_pred),\n",
    "        create_graph=True\n",
    "    )[0]\n",
    "    \n",
    "    d2y_dx2 = torch.autograd.grad(\n",
    "        outputs=dy_dx,\n",
    "        inputs=x_f,\n",
    "        grad_outputs=torch.ones_like(dy_dx),\n",
    "        create_graph=True\n",
    "    )[0]\n",
    "    \n",
    "    # --------------- Compute Equation Residual ---------------\n",
    "    # Handle division by zero: replace values near 0 in x_f with epsilon\n",
    "    x_safe = torch.where(x_f < epsilon, torch.ones_like(x_f)*epsilon, x_f)\n",
    "    residual = d2y_dx2 + ((1 - 2*x_safe)/x_safe * dy_dx) + ((x_safe - 1)/x_safe * y_pred)\n",
    "    loss = torch.mean(residual**2)  # Only need to minimize residual\n",
    "    \n",
    "    # --------------- Backward Propagation and Optimization ---------------\n",
    "    loss.backward()\n",
    "    optimizer.step()\n",
    "    scheduler.step(loss)  # Dynamic learning rate adjustment\n",
    "    \n",
    "    loss_history.append(loss.item())\n",
    "    \n",
    "    # Print training status every 1000 epochs\n",
    "    if epoch % 1000 == 0:\n",
    "        print(f\"Epoch {epoch:5d} | Loss: {loss.item():.3e} | LR: {optimizer.param_groups[0]['lr']:.1e}\")\n",
    "\n",
    "# ===================== 5. Testing and Visualization =====================\n",
    "# Generate test data (including x=0 and x=1)\n",
    "x_test = torch.linspace(0, 1, 1000).reshape(-1, 1)\n",
    "y_pred = model(x_test).detach().numpy()\n",
    "y_exact = np.exp(x_test.numpy())\n",
    "\n",
    "import os\n",
    "os.environ['KMP_DUPLICATE_LIB_OK'] = 'TRUE'\n",
    "plt.figure(figsize=(8, 4))\n",
    "plt.plot(x_test, y_pred, 'b--', linewidth=2, label='PINN Prediction')\n",
    "plt.plot(x_test, y_exact, 'r-', linewidth=1, label='Exact Solution')\n",
    "plt.xlabel('Time t')\n",
    "plt.ylabel('Displacement u(t)')\n",
    "plt.legend()\n",
    "plt.title('Comparison of PINN and Exact Solution')\n",
    "plt.grid(True)\n",
    "plt.show()"
   ]
  },
  {
   "cell_type": "code",
   "execution_count": 2,
   "id": "d8902461",
   "metadata": {
    "ExecuteTime": {
     "end_time": "2025-05-11T09:04:14.465287Z",
     "start_time": "2025-05-11T09:04:13.451406Z"
    }
   },
   "outputs": [
    {
     "name": "stdout",
     "output_type": "stream",
     "text": [
      "R2_pinn: 0.9998668632177521, mae_pinn: 0.004222654737532139, rmse_pinn: 0.005720744840800762, inf_norm_pinn: 0.01053309440612793\n"
     ]
    }
   ],
   "source": [
    "from sklearn.metrics import mean_squared_error\n",
    "from sklearn.metrics import r2_score\n",
    "from sklearn.metrics import mean_absolute_error\n",
    "y_exact = y_exact.reshape(-1, 1)\n",
    "y_p_pinn = y_pred\n",
    "y_true = y_exact\n",
    "R2_pinn = r2_score(y_p_pinn, y_true)\n",
    "mae_pinn = mean_absolute_error(y_p_pinn, y_true)\n",
    "rmse_pinn = mean_squared_error(y_p_pinn, y_true, squared=False)\n",
    "inf_norm_pinn = np.linalg.norm(y_p_pinn - y_true, ord = np.inf)\n",
    "\n",
    "print(f\"R2_pinn: {R2_pinn}, mae_pinn: {mae_pinn}, rmse_pinn: {rmse_pinn}, inf_norm_pinn: {inf_norm_pinn}\")"
   ]
  },
  {
   "cell_type": "code",
   "execution_count": 3,
   "id": "a3ce72bb",
   "metadata": {
    "ExecuteTime": {
     "end_time": "2025-05-11T09:04:15.106191Z",
     "start_time": "2025-05-11T09:04:14.468230Z"
    }
   },
   "outputs": [
    {
     "name": "stdout",
     "output_type": "stream",
     "text": [
      "数据已保存至 pinn_13.csv\n"
     ]
    }
   ],
   "source": [
    "import numpy as np\n",
    "import pandas as pd\n",
    "\n",
    "data_to_save = pd.DataFrame({\n",
    "    'x': x_test.flatten(),\n",
    "    'y_pred_pinn': y_p_pinn.flatten(),\n",
    "    'y_exact': y_true.flatten()\n",
    "})\n",
    "\n",
    "data_to_save.to_csv('pinn_13.csv', index=False)\n",
    "print(\" pinn_13.csv\")"
   ]
  },
  {
   "cell_type": "code",
   "execution_count": null,
   "id": "62a02db3",
   "metadata": {},
   "outputs": [],
   "source": []
  }
 ],
 "metadata": {
  "kernelspec": {
   "display_name": "Python 3 (ipykernel)",
   "language": "python",
   "name": "python3"
  },
  "language_info": {
   "codemirror_mode": {
    "name": "ipython",
    "version": 3
   },
   "file_extension": ".py",
   "mimetype": "text/x-python",
   "name": "python",
   "nbconvert_exporter": "python",
   "pygments_lexer": "ipython3",
   "version": "3.9.12"
  }
 },
 "nbformat": 4,
 "nbformat_minor": 5
}
