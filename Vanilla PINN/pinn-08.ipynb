{
 "cells": [
  {
   "cell_type": "code",
   "execution_count": 1,
   "id": "a6995e0e",
   "metadata": {
    "ExecuteTime": {
     "end_time": "2025-05-11T07:57:28.517731Z",
     "start_time": "2025-05-11T07:34:16.978216Z"
    }
   },
   "outputs": [
    {
     "name": "stdout",
     "output_type": "stream",
     "text": [
      "Epoch 0, Loss: 1.7241e+01\n",
      "Epoch 1000, Loss: 4.9346e-01\n",
      "Epoch 2000, Loss: 3.9489e-01\n",
      "Epoch 3000, Loss: 3.5277e-01\n",
      "Epoch 4000, Loss: 3.4215e-01\n",
      "Epoch 5000, Loss: 3.1814e-01\n",
      "Epoch 6000, Loss: 2.9674e-01\n",
      "Epoch 7000, Loss: 1.8800e-01\n",
      "Epoch 8000, Loss: 1.3839e-01\n",
      "Epoch 9000, Loss: 1.0372e-01\n",
      "Epoch 10000, Loss: 8.4128e-02\n",
      "Epoch 11000, Loss: 6.3774e-02\n",
      "Epoch 12000, Loss: 4.5727e-02\n",
      "Epoch 13000, Loss: 2.3672e-02\n",
      "Epoch 14000, Loss: 8.9075e-03\n",
      "Epoch 15000, Loss: 5.6221e-03\n",
      "Epoch 16000, Loss: 4.3545e-03\n",
      "Epoch 17000, Loss: 2.3875e-03\n",
      "Epoch 18000, Loss: 2.4999e-03\n",
      "Epoch 19000, Loss: 2.7845e-03\n"
     ]
    },
    {
     "data": {
      "image/png": "[encoded data removed]",
      "text/plain": [
       "<Figure size 576x288 with 1 Axes>"
      ]
     },
     "metadata": {
      "needs_background": "light"
     },
     "output_type": "display_data"
    }
   ],
   "source": [
    "import torch\n",
    "import torch.nn as nn\n",
    "import numpy as np\n",
    "import matplotlib.pyplot as plt\n",
    "\n",
    "# Define the Physics-Informed Neural Network (PINN)\n",
    "class PINN(nn.Module):\n",
    "    def __init__(self):\n",
    "        super().__init__()\n",
    "        self.net = nn.Sequential(\n",
    "            nn.Linear(1, 20),    # Input layer: time t (1 dimension)\n",
    "            nn.Tanh(),           # Activation function\n",
    "            nn.Linear(20, 20),   # Hidden layer\n",
    "            nn.Tanh(),\n",
    "            nn.Linear(20, 20),   # Hidden layer\n",
    "            nn.Tanh(),\n",
    "            nn.Linear(20, 1)     # Output layer: displacement u (1 dimension)\n",
    "        )\n",
    "    def forward(self, t):\n",
    "        return self.net(t)\n",
    "\n",
    "# Initialize model and optimizer\n",
    "model = PINN()\n",
    "optimizer = torch.optim.Adam(model.parameters(), lr=1e-3)\n",
    "\n",
    "# Training parameters\n",
    "epochs = 20000  # Number of training epochs\n",
    "\n",
    "# Training loop\n",
    "for epoch in range(epochs):\n",
    "    optimizer.zero_grad()\n",
    "    \n",
    "    # --- Initial condition loss ---\n",
    "    t_initial = torch.zeros(1, requires_grad=True).float()  # t=0\n",
    "    u_initial_pred = model(t_initial)  # Model prediction\n",
    "    \n",
    "    # Loss for u(0)\n",
    "    loss_u = torch.mean((u_initial_pred + 0.5)**2)  # Initial condition u(0) = -0.5\n",
    "    \n",
    "    # Loss for u'(0)\n",
    "    du_dt_initial = torch.autograd.grad(\n",
    "        outputs=u_initial_pred,\n",
    "        inputs=t_initial,\n",
    "        grad_outputs=torch.ones_like(u_initial_pred),\n",
    "        create_graph=True\n",
    "    )[0]  # Compute first derivative\n",
    "    loss_du = torch.mean((du_dt_initial - 1.0)**2)  # Initial condition u'(0) = 1\n",
    "    \n",
    "    # --- PDE residual loss ---\n",
    "    # Sample collocation points in the domain\n",
    "    t_collocation = torch.rand(1000, 1) * 2  # Time range [0, 2)\n",
    "    t_collocation.requires_grad = True\n",
    "    \n",
    "    # Model prediction\n",
    "    u = model(t_collocation)\n",
    "    \n",
    "    # Compute first derivative\n",
    "    du_dt = torch.autograd.grad(\n",
    "        outputs=u,\n",
    "        inputs=t_collocation,\n",
    "        grad_outputs=torch.ones_like(u),\n",
    "        create_graph=True\n",
    "    )[0]\n",
    "    \n",
    "    # Compute second derivative\n",
    "    du2_dt2 = torch.autograd.grad(\n",
    "        outputs=du_dt,\n",
    "        inputs=t_collocation,\n",
    "        grad_outputs=torch.ones_like(du_dt),\n",
    "        create_graph=True\n",
    "    )[0]\n",
    "    \n",
    "    # Residual: 0.5*u'' + 18u = 0\n",
    "    residual = 0.5 * du2_dt2 + 18 * u\n",
    "    loss_pde = torch.mean(residual**2)\n",
    "    \n",
    "    # Total loss\n",
    "    total_loss = loss_u + loss_du + loss_pde\n",
    "    \n",
    "    # Backpropagation\n",
    "    total_loss.backward()\n",
    "    optimizer.step()\n",
    "    \n",
    "    # Print training progress\n",
    "    if epoch % 1000 == 0:\n",
    "        print(f'Epoch {epoch}, Loss: {total_loss.item():.4e}')\n",
    "            \n",
    "import os\n",
    "os.environ['KMP_DUPLICATE_LIB_OK'] = 'TRUE'\n",
    "# Plot results\n",
    "t_test = torch.linspace(0, 2, 1000).reshape(-1, 1)\n",
    "u_pred = model(t_test).detach().numpy()\n",
    "\n",
    "# Exact solution\n",
    "u_exact = 0.52705 * np.cos(6 * t_test.numpy() - 2.81984)\n",
    "\n",
    "plt.figure(figsize=(8, 4))\n",
    "plt.plot(t_test, u_pred, 'b--', linewidth=2, label='PINN Prediction')\n",
    "plt.plot(t_test, u_exact, 'r-', linewidth=1, label='Exact Solution')\n",
    "plt.xlabel('Time t')\n",
    "plt.ylabel('Displacement u(t)')\n",
    "plt.legend()\n",
    "plt.title('Comparison of PINN and Exact Solution')\n",
    "plt.grid(True)\n",
    "plt.show()"
   ]
  },
  {
   "cell_type": "code",
   "execution_count": 2,
   "id": "4f304005",
   "metadata": {
    "ExecuteTime": {
     "end_time": "2025-05-11T07:57:29.823455Z",
     "start_time": "2025-05-11T07:57:28.529852Z"
    }
   },
   "outputs": [
    {
     "name": "stdout",
     "output_type": "stream",
     "text": [
      "R2_pinn: 0.9997266693870861, mae_pinn: 0.005227585788816214, rmse_pinn: 0.00592146348208189, inf_norm_pinn: 0.01037299633026123\n"
     ]
    }
   ],
   "source": [
    "from sklearn.metrics import mean_squared_error\n",
    "from sklearn.metrics import r2_score\n",
    "from sklearn.metrics import mean_absolute_error\n",
    "y_exact = u_exact.reshape(-1, 1)\n",
    "y_p_pinn = u_pred\n",
    "y_true = u_exact\n",
    "R2_pinn = r2_score(y_p_pinn, y_true)\n",
    "mae_pinn = mean_absolute_error(y_p_pinn, y_true)\n",
    "rmse_pinn = mean_squared_error(y_p_pinn, y_true, squared=False)\n",
    "inf_norm_pinn = np.linalg.norm(y_p_pinn - y_true, ord = np.inf)\n",
    "\n",
    "print(f\"R2_pinn: {R2_pinn}, mae_pinn: {mae_pinn}, rmse_pinn: {rmse_pinn}, inf_norm_pinn: {inf_norm_pinn}\")"
   ]
  },
  {
   "cell_type": "code",
   "execution_count": 3,
   "id": "e085cb06",
   "metadata": {
    "ExecuteTime": {
     "end_time": "2025-05-11T07:57:30.677244Z",
     "start_time": "2025-05-11T07:57:29.829324Z"
    }
   },
   "outputs": [
    {
     "name": "stdout",
     "output_type": "stream",
     "text": [
      "数据已保存至 pinn_08.csv\n"
     ]
    }
   ],
   "source": [
    "import numpy as np\n",
    "import pandas as pd\n",
    "\n",
    "data_to_save = pd.DataFrame({\n",
    "    'x': t_test.flatten(),\n",
    "    'y_pred_pinn': y_p_pinn.flatten(),\n",
    "    'y_exact': y_true.flatten()\n",
    "})\n",
    "\n",
    "data_to_save.to_csv('pinn_08.csv', index=False)\n",
    "print(\" pinn_08.csv\")"
   ]
  },
  {
   "cell_type": "code",
   "execution_count": null,
   "id": "fba78c90",
   "metadata": {},
   "outputs": [],
   "source": []
  }
 ],
 "metadata": {
  "kernelspec": {
   "display_name": "Python 3 (ipykernel)",
   "language": "python",
   "name": "python3"
  },
  "language_info": {
   "codemirror_mode": {
    "name": "ipython",
    "version": 3
   },
   "file_extension": ".py",
   "mimetype": "text/x-python",
   "name": "python",
   "nbconvert_exporter": "python",
   "pygments_lexer": "ipython3",
   "version": "3.9.12"
  }
 },
 "nbformat": 4,
 "nbformat_minor": 5
}
