{
 "cells": [
  {
   "cell_type": "code",
   "execution_count": 1,
   "id": "4e95b5e5",
   "metadata": {
    "ExecuteTime": {
     "end_time": "2025-05-11T07:52:52.817135Z",
     "start_time": "2025-05-11T07:39:56.615114Z"
    }
   },
   "outputs": [
    {
     "name": "stdout",
     "output_type": "stream",
     "text": [
      "Epoch 0, Loss: 1.9868e+00\n",
      "Epoch 1000, Loss: 2.9371e-04\n",
      "Epoch 2000, Loss: 1.3176e-04\n",
      "Epoch 3000, Loss: 3.9474e-05\n",
      "Epoch 4000, Loss: 1.0520e-04\n",
      "Epoch 5000, Loss: 1.6795e-04\n",
      "Epoch 6000, Loss: 1.8419e-04\n",
      "Epoch 7000, Loss: 9.5465e-05\n",
      "Epoch 8000, Loss: 6.5751e-06\n",
      "Epoch 9000, Loss: 2.1574e-04\n"
     ]
    },
    {
     "data": {
      "image/png": "[encoded data removed]",
      "text/plain": [
       "<Figure size 576x288 with 1 Axes>"
      ]
     },
     "metadata": {
      "needs_background": "light"
     },
     "output_type": "display_data"
    }
   ],
   "source": [
    "import torch\n",
    "import torch.nn as nn\n",
    "import numpy as np\n",
    "import matplotlib.pyplot as plt\n",
    "\n",
    "# Define the PINN network structure\n",
    "class PINN(nn.Module):\n",
    "    def __init__(self):\n",
    "        super(PINN, self).__init__()\n",
    "        self.layers = nn.Sequential(\n",
    "            nn.Linear(1, 20),   # Input layer: 1 neuron (x)\n",
    "            nn.Tanh(),          # Activation function\n",
    "            nn.Linear(20, 20),  # Hidden layer\n",
    "            nn.Tanh(),\n",
    "            nn.Linear(20, 20),  # Hidden layer\n",
    "            nn.Tanh(),\n",
    "            nn.Linear(20, 1)    # Output layer: 1 neuron (y)\n",
    "        )\n",
    "    \n",
    "    def forward(self, x):\n",
    "        return self.layers(x)\n",
    "\n",
    "# Initialize model and optimizer\n",
    "model = PINN()\n",
    "optimizer = torch.optim.Adam(model.parameters(), lr=0.001)\n",
    "\n",
    "# Training parameters\n",
    "epochs = 10000     # Number of training epochs\n",
    "num_points = 1000  # Number of sampled points per training step\n",
    "\n",
    "# Training loop\n",
    "for epoch in range(epochs):\n",
    "    # Randomly sample internal points (domain points)\n",
    "    x_internal = torch.rand(num_points, 1) * 10.0\n",
    "    x_internal.requires_grad = True\n",
    "    \n",
    "    # Compute differential equation residual\n",
    "    y_pred = model(x_internal)\n",
    "    dy_dx = torch.autograd.grad(y_pred, x_internal, \n",
    "                               grad_outputs=torch.ones_like(y_pred),\n",
    "                               create_graph=True)[0]\n",
    "    d2y_dx2 = torch.autograd.grad(dy_dx, x_internal,\n",
    "                                 grad_outputs=torch.ones_like(dy_dx),\n",
    "                                 create_graph=True)[0]\n",
    "    residual = d2y_dx2 + 4*dy_dx + 4*y_pred\n",
    "    equation_loss = torch.mean(residual**2)  # Equation loss\n",
    "    \n",
    "    # Compute initial condition loss\n",
    "    x0 = torch.tensor([[0.0]], requires_grad=True)\n",
    "    y0_pred = model(x0)\n",
    "    dy0_pred = torch.autograd.grad(y0_pred, x0, create_graph=True)[0]\n",
    "    \n",
    "    # Loss for y(0)=1 and y'(0)=1\n",
    "    initial_loss = (y0_pred - 1.0)**2 + (dy0_pred - 1.0)**2\n",
    "    \n",
    "    # Total loss\n",
    "    total_loss = equation_loss + initial_loss\n",
    "    \n",
    "    # Backpropagation and optimization\n",
    "    optimizer.zero_grad()\n",
    "    total_loss.backward()\n",
    "    optimizer.step()\n",
    "    \n",
    "    # Print loss every 1000 epochs\n",
    "    if epoch % 1000 == 0:\n",
    "        print(f'Epoch {epoch}, Loss: {total_loss.item():.4e}')\n",
    "\n",
    "# Generate test data\n",
    "x_test = torch.linspace(0, 10, 1000).reshape(-1, 1)\n",
    "y_pred = model(x_test).detach().numpy()\n",
    "\n",
    "# Compute analytical solution\n",
    "x_analytical = x_test.numpy().flatten()\n",
    "y_exact = (1 + 3*x_analytical) * np.exp(-2*x_analytical)\n",
    "\n",
    "# Plot results\n",
    "import os\n",
    "os.environ['KMP_DUPLICATE_LIB_OK'] = 'TRUE'\n",
    "plt.figure(figsize=(8, 4))\n",
    "plt.plot(x_test, y_pred, 'b--', linewidth=2, label='PINN Prediction')\n",
    "plt.plot(x_test, y_exact, 'r-', linewidth=1, label='Exact Solution')\n",
    "plt.xlabel('Time t')\n",
    "plt.ylabel('Displacement u(t)')\n",
    "plt.legend()\n",
    "plt.title('Comparison of PINN and Exact Solution')\n",
    "plt.grid(True)\n",
    "plt.show()"
   ]
  },
  {
   "cell_type": "code",
   "execution_count": 2,
   "id": "66e62df5",
   "metadata": {
    "ExecuteTime": {
     "end_time": "2025-05-11T07:52:54.414080Z",
     "start_time": "2025-05-11T07:52:52.819292Z"
    }
   },
   "outputs": [
    {
     "name": "stdout",
     "output_type": "stream",
     "text": [
      "R2_pinn: 0.9999998682728625, mae_pinn: 8.655112469568849e-05, rmse_pinn: 9.961953765014187e-05, inf_norm_pinn: 0.0001888573169708252\n"
     ]
    }
   ],
   "source": [
    "from sklearn.metrics import mean_squared_error\n",
    "from sklearn.metrics import r2_score\n",
    "from sklearn.metrics import mean_absolute_error\n",
    "y_exact = y_exact.reshape(-1, 1)\n",
    "y_p_pinn = y_pred\n",
    "y_true = y_exact\n",
    "R2_pinn = r2_score(y_p_pinn, y_true)\n",
    "mae_pinn = mean_absolute_error(y_p_pinn, y_true)\n",
    "rmse_pinn = mean_squared_error(y_p_pinn, y_true, squared=False)\n",
    "inf_norm_pinn = np.linalg.norm(y_p_pinn - y_true, ord = np.inf)\n",
    "\n",
    "print(f\"R2_pinn: {R2_pinn}, mae_pinn: {mae_pinn}, rmse_pinn: {rmse_pinn}, inf_norm_pinn: {inf_norm_pinn}\")"
   ]
  },
  {
   "cell_type": "code",
   "execution_count": 3,
   "id": "1e1161bc",
   "metadata": {
    "ExecuteTime": {
     "end_time": "2025-05-11T07:52:55.357346Z",
     "start_time": "2025-05-11T07:52:54.414080Z"
    }
   },
   "outputs": [
    {
     "name": "stdout",
     "output_type": "stream",
     "text": [
      "数据已保存至 pinn_09.csv\n"
     ]
    }
   ],
   "source": [
    "import numpy as np\n",
    "import pandas as pd\n",
    "\n",
    "data_to_save = pd.DataFrame({\n",
    "    'x': x_test.flatten(),\n",
    "    'y_pred_pinn': y_p_pinn.flatten(),\n",
    "    'y_exact': y_true.flatten()\n",
    "})\n",
    "\n",
    "\n",
    "data_to_save.to_csv('pinn_09.csv', index=False)\n",
    "print(\" pinn_09.csv\")"
   ]
  },
  {
   "cell_type": "code",
   "execution_count": null,
   "id": "fea6d2e3",
   "metadata": {},
   "outputs": [],
   "source": []
  }
 ],
 "metadata": {
  "kernelspec": {
   "display_name": "Python 3 (ipykernel)",
   "language": "python",
   "name": "python3"
  },
  "language_info": {
   "codemirror_mode": {
    "name": "ipython",
    "version": 3
   },
   "file_extension": ".py",
   "mimetype": "text/x-python",
   "name": "python",
   "nbconvert_exporter": "python",
   "pygments_lexer": "ipython3",
   "version": "3.9.12"
  }
 },
 "nbformat": 4,
 "nbformat_minor": 5
}
