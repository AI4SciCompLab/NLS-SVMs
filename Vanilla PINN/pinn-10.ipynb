{
 "cells": [
  {
   "cell_type": "code",
   "execution_count": 1,
   "id": "d765acb1",
   "metadata": {
    "ExecuteTime": {
     "end_time": "2025-05-11T08:06:00.615882Z",
     "start_time": "2025-05-11T07:55:24.440413Z"
    }
   },
   "outputs": [
    {
     "name": "stdout",
     "output_type": "stream",
     "text": [
      "Epoch 0, Loss: 1.229598\n",
      "Epoch 1000, Loss: 0.007803\n",
      "Epoch 2000, Loss: 0.003377\n",
      "Epoch 3000, Loss: 0.002923\n",
      "Epoch 4000, Loss: 0.002750\n",
      "Epoch 5000, Loss: 0.002635\n",
      "Epoch 6000, Loss: 0.002542\n",
      "Epoch 7000, Loss: 0.002459\n",
      "Epoch 8000, Loss: 0.002236\n",
      "Epoch 9000, Loss: 0.000909\n"
     ]
    },
    {
     "data": {
      "image/png": "[encoded data removed]",
      "text/plain": [
       "<Figure size 576x288 with 1 Axes>"
      ]
     },
     "metadata": {
      "needs_background": "light"
     },
     "output_type": "display_data"
    }
   ],
   "source": [
    "import torch\n",
    "import torch.nn as nn\n",
    "import numpy as np\n",
    "import matplotlib.pyplot as plt\n",
    "\n",
    "# Define the exact solution\n",
    "def exact_solution(x):\n",
    "    return np.exp(-x/5) * np.sin(x)\n",
    "\n",
    "# Define the PINN model\n",
    "class PINN(nn.Module):\n",
    "    def __init__(self):\n",
    "        super(PINN, self).__init__()\n",
    "        self.layers = nn.Sequential(\n",
    "            nn.Linear(1, 20),    # Input layer: 1D x → 20D\n",
    "            nn.Tanh(),           # Activation function\n",
    "            nn.Linear(20, 20),   # Hidden layer: 20 → 20\n",
    "            nn.Tanh(),\n",
    "            nn.Linear(20, 20),   # Hidden layer: 20 → 20\n",
    "            nn.Tanh(),\n",
    "            nn.Linear(20, 1)     # Output layer: 20 → 1D y\n",
    "        )\n",
    "    \n",
    "    def forward(self, x):\n",
    "        return self.layers(x)\n",
    "\n",
    "# Initialize model and optimizer\n",
    "model = PINN()\n",
    "optimizer = torch.optim.Adam(model.parameters(), lr=0.001)\n",
    "\n",
    "# Generate training data\n",
    "x_residual = torch.linspace(0, 10, 1000, requires_grad=True).view(-1, 1)  # Residual points\n",
    "x_initial = torch.tensor([[0.0]], requires_grad=True)                    # Initial condition point\n",
    "\n",
    "# Training loop\n",
    "epochs = 10000\n",
    "for epoch in range(epochs):\n",
    "    optimizer.zero_grad()\n",
    "    \n",
    "    # Compute PDE residual\n",
    "    y_pred = model(x_residual)\n",
    "    dy_dx = torch.autograd.grad(y_pred, x_residual, \n",
    "                               grad_outputs=torch.ones_like(y_pred),\n",
    "                               create_graph=True)[0]  # First derivative\n",
    "    d2y_dx2 = torch.autograd.grad(dy_dx, x_residual,\n",
    "                                 grad_outputs=torch.ones_like(dy_dx),\n",
    "                                 create_graph=True)[0]  # Second derivative\n",
    "    \n",
    "    # Residual equation: y'' + (1/5)y' + y + (1/5)e^(-x/5)cos(x) = 0\n",
    "    residual = d2y_dx2 + (1/5)*dy_dx + y_pred + (1/5)*torch.exp(-x_residual/5)*torch.cos(x_residual)\n",
    "    loss_equation = torch.mean(residual**2)  # Mean squared error of PDE residual\n",
    "    \n",
    "    # Initial condition y(0)=0 loss\n",
    "    y_initial = model(x_initial)\n",
    "    loss_y0 = torch.mean((y_initial - 0)**2)\n",
    "    \n",
    "    # Initial condition y'(0)=1 loss\n",
    "    dy_dx_initial = torch.autograd.grad(y_initial, x_initial,\n",
    "                                      grad_outputs=torch.ones_like(y_initial),\n",
    "                                      create_graph=True)[0]\n",
    "    loss_y_prime0 = torch.mean((dy_dx_initial - 1)**2)\n",
    "    \n",
    "    # Total loss\n",
    "    total_loss = loss_equation + loss_y0 + loss_y_prime0\n",
    "    \n",
    "    # Backpropagation and optimization\n",
    "    total_loss.backward()\n",
    "    optimizer.step()\n",
    "    \n",
    "    # Print loss every 1000 epochs\n",
    "    if epoch % 1000 == 0:\n",
    "        print(f'Epoch {epoch}, Loss: {total_loss.item():.6f}')\n",
    "\n",
    "# Plot results\n",
    "x_test = np.linspace(0, 10, 1000).reshape(-1, 1)\n",
    "x_test_tensor = torch.tensor(x_test, dtype=torch.float32)\n",
    "y_pred = model(x_test_tensor).detach().numpy()\n",
    "y_exact = exact_solution(x_test)\n",
    "\n",
    "# Plot results\n",
    "import os\n",
    "os.environ['KMP_DUPLICATE_LIB_OK'] = 'TRUE'\n",
    "plt.figure(figsize=(8, 4))\n",
    "plt.plot(x_test, y_pred, 'b--', linewidth=2, label='PINN Prediction')\n",
    "plt.plot(x_test, y_exact, 'r-', linewidth=1, label='Exact Solution')\n",
    "plt.xlabel('Time t')\n",
    "plt.ylabel('Displacement u(t)')\n",
    "plt.legend()\n",
    "plt.title('Comparison of PINN and Exact Solution')\n",
    "plt.grid(True)\n",
    "plt.show()"
   ]
  },
  {
   "cell_type": "code",
   "execution_count": 2,
   "id": "e95b82ba",
   "metadata": {
    "ExecuteTime": {
     "end_time": "2025-05-11T08:06:03.034115Z",
     "start_time": "2025-05-11T08:06:00.619861Z"
    }
   },
   "outputs": [
    {
     "name": "stdout",
     "output_type": "stream",
     "text": [
      "R2_pinn: 0.9829111329010637, mae_pinn: 0.031241539868240742, rmse_pinn: 0.040696484541137265, inf_norm_pinn: 0.08616273143175449\n"
     ]
    }
   ],
   "source": [
    "from sklearn.metrics import mean_squared_error\n",
    "from sklearn.metrics import r2_score\n",
    "from sklearn.metrics import mean_absolute_error\n",
    "y_exact = y_exact.reshape(-1, 1)\n",
    "y_p_pinn = y_pred\n",
    "y_true = y_exact\n",
    "R2_pinn = r2_score(y_p_pinn, y_true)\n",
    "mae_pinn = mean_absolute_error(y_p_pinn, y_true)\n",
    "rmse_pinn = mean_squared_error(y_p_pinn, y_true, squared=False)\n",
    "inf_norm_pinn = np.linalg.norm(y_p_pinn - y_true, ord = np.inf)\n",
    "\n",
    "print(f\"R2_pinn: {R2_pinn}, mae_pinn: {mae_pinn}, rmse_pinn: {rmse_pinn}, inf_norm_pinn: {inf_norm_pinn}\")"
   ]
  },
  {
   "cell_type": "code",
   "execution_count": 3,
   "id": "a99483b9",
   "metadata": {
    "ExecuteTime": {
     "end_time": "2025-05-11T08:06:04.441453Z",
     "start_time": "2025-05-11T08:06:03.040882Z"
    }
   },
   "outputs": [
    {
     "name": "stdout",
     "output_type": "stream",
     "text": [
      "数据已保存至 pinn_10.csv\n"
     ]
    }
   ],
   "source": [
    "import numpy as np\n",
    "import pandas as pd\n",
    "\n",
    "data_to_save = pd.DataFrame({\n",
    "    'x': x_test.flatten(),\n",
    "    'y_pred_pinn': y_p_pinn.flatten(),\n",
    "    'y_exact': y_true.flatten()\n",
    "})\n",
    "\n",
    "data_to_save.to_csv('pinn_10.csv', index=False)\n",
    "print(\" pinn_10.csv\")"
   ]
  }
 ],
 "metadata": {
  "kernelspec": {
   "display_name": "Python 3 (ipykernel)",
   "language": "python",
   "name": "python3"
  },
  "language_info": {
   "codemirror_mode": {
    "name": "ipython",
    "version": 3
   },
   "file_extension": ".py",
   "mimetype": "text/x-python",
   "name": "python",
   "nbconvert_exporter": "python",
   "pygments_lexer": "ipython3",
   "version": "3.9.12"
  }
 },
 "nbformat": 4,
 "nbformat_minor": 5
}
