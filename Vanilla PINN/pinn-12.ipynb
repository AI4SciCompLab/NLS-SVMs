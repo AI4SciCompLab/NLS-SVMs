{
 "cells": [
  {
   "cell_type": "code",
   "execution_count": 1,
   "id": "17a89315",
   "metadata": {
    "ExecuteTime": {
     "end_time": "2025-05-11T08:54:51.951241Z",
     "start_time": "2025-05-11T08:38:43.017168Z"
    }
   },
   "outputs": [
    {
     "name": "stdout",
     "output_type": "stream",
     "text": [
      "Epoch [1000/10000], Loss: 1.3533e-04\n",
      "Epoch [2000/10000], Loss: 7.2535e-06\n",
      "Epoch [3000/10000], Loss: 5.3173e-06\n",
      "Epoch [4000/10000], Loss: 3.7520e-06\n",
      "Epoch [5000/10000], Loss: 2.7427e-06\n",
      "Epoch [6000/10000], Loss: 1.9826e-06\n",
      "Epoch [7000/10000], Loss: 1.4527e-06\n",
      "Epoch [8000/10000], Loss: 9.8832e-07\n",
      "Epoch [9000/10000], Loss: 1.1432e-06\n",
      "Epoch [10000/10000], Loss: 3.5638e-07\n"
     ]
    },
    {
     "data": {
      "image/png": "[encoded data removed]",
      "text/plain": [
       "<Figure size 576x288 with 1 Axes>"
      ]
     },
     "metadata": {
      "needs_background": "light"
     },
     "output_type": "display_data"
    }
   ],
   "source": [
    "import torch\n",
    "import torch.nn as nn\n",
    "import numpy as np\n",
    "import matplotlib.pyplot as plt\n",
    "\n",
    "# Define neural network model\n",
    "class PINN(nn.Module):\n",
    "    def __init__(self):\n",
    "        super().__init__()\n",
    "        self.net = nn.Sequential(\n",
    "            nn.Linear(1, 50),   # Input layer: 1 neuron (x coordinate)\n",
    "            nn.Tanh(),           # Activation function\n",
    "            nn.Linear(50, 50),   # Hidden layer\n",
    "            nn.Tanh(),\n",
    "            nn.Linear(50, 1)    # Output layer: predicts y value\n",
    "        )\n",
    "    \n",
    "    def forward(self, x):\n",
    "        return self.net(x)\n",
    "\n",
    "# Exact solution function (given in the problem)\n",
    "def exact_solution(x):\n",
    "    return -np.cos(x) + (np.cos(1) - 2)*np.sin(x)/np.sin(1) + 2\n",
    "\n",
    "# Training parameters setup\n",
    "num_epochs = 10000   # Number of training epochs\n",
    "lr = 0.001           # Learning rate\n",
    "\n",
    "# Initialize model and optimizer\n",
    "model = PINN()\n",
    "optimizer = torch.optim.Adam(model.parameters(), lr=lr)\n",
    "\n",
    "# Generate training data\n",
    "num_internal = 1000   # Number of internal points\n",
    "x_internal = torch.linspace(0, 1, num_internal).view(-1, 1).requires_grad_(True)  # Internal points\n",
    "x_bc = torch.tensor([[0.0], [1.0]], requires_grad=True)  # Boundary points\n",
    "\n",
    "# Training loop\n",
    "loss_history = []\n",
    "for epoch in range(num_epochs):\n",
    "    optimizer.zero_grad()\n",
    "    \n",
    "    # Forward pass: internal points\n",
    "    y_pred = model(x_internal)\n",
    "    \n",
    "    # Compute first derivative\n",
    "    dy_dx = torch.autograd.grad(\n",
    "        y_pred, x_internal,\n",
    "        grad_outputs=torch.ones_like(y_pred),\n",
    "        create_graph=True\n",
    "    )[0]\n",
    "    \n",
    "    # Compute second derivative\n",
    "    d2y_dx2 = torch.autograd.grad(\n",
    "        dy_dx, x_internal,\n",
    "        grad_outputs=torch.ones_like(dy_dx),\n",
    "        create_graph=True\n",
    "    )[0]\n",
    "    \n",
    "    # PDE residual loss: y'' + y - 2 = 0\n",
    "    pde_loss = torch.mean((d2y_dx2 + y_pred - 2)**2)\n",
    "    \n",
    "    # Boundary condition loss\n",
    "    y0_pred = model(x_bc[0].view(1, -1))  # Prediction at x=0\n",
    "    y1_pred = model(x_bc[1].view(1, -1))  # Prediction at x=1\n",
    "    bc_loss = (y0_pred - 1)**2 + (y1_pred - 0)**2\n",
    "    \n",
    "    # Total loss\n",
    "    total_loss = pde_loss + bc_loss\n",
    "    \n",
    "    # Backward propagation\n",
    "    total_loss.backward()\n",
    "    optimizer.step()\n",
    "    \n",
    "    # Record loss\n",
    "    loss_history.append(total_loss.item())\n",
    "    \n",
    "    # Print loss every 1000 epochs\n",
    "    if (epoch+1) % 1000 == 0:\n",
    "        print(f'Epoch [{epoch+1}/{num_epochs}], Loss: {total_loss.item():.4e}')\n",
    "\n",
    "\n",
    "# Generate test data\n",
    "x_test = torch.linspace(0, 1, 1000).view(-1, 1)\n",
    "y_pred = model(x_test).detach().numpy()\n",
    "y_exact = exact_solution(x_test.numpy())\n",
    "\n",
    "import os\n",
    "os.environ['KMP_DUPLICATE_LIB_OK'] = 'TRUE'\n",
    "plt.figure(figsize=(8, 4))\n",
    "plt.plot(x_test, y_pred, 'b--', linewidth=2, label='PINN Prediction')\n",
    "plt.plot(x_test, y_exact, 'r-', linewidth=1, label='Exact Solution')\n",
    "plt.xlabel('Time t')\n",
    "plt.ylabel('Displacement u(t)')\n",
    "plt.legend()\n",
    "plt.title('Comparison of PINN and Exact Solution')\n",
    "plt.grid(True)\n",
    "plt.show()"
   ]
  },
  {
   "cell_type": "code",
   "execution_count": 2,
   "id": "a454556f",
   "metadata": {
    "ExecuteTime": {
     "end_time": "2025-05-11T08:54:54.594319Z",
     "start_time": "2025-05-11T08:54:51.953514Z"
    }
   },
   "outputs": [
    {
     "name": "stdout",
     "output_type": "stream",
     "text": [
      "R2_pinn: 0.9999999941891089, mae_pinn: 2.2824115148978308e-05, rmse_pinn: 2.2907806851435453e-05, inf_norm_pinn: 2.6047229766845703e-05\n"
     ]
    }
   ],
   "source": [
    "from sklearn.metrics import mean_squared_error\n",
    "from sklearn.metrics import r2_score\n",
    "from sklearn.metrics import mean_absolute_error\n",
    "y_exact = y_exact.reshape(-1, 1)\n",
    "y_p_pinn = y_pred\n",
    "y_true = y_exact\n",
    "R2_pinn = r2_score(y_p_pinn, y_true)\n",
    "mae_pinn = mean_absolute_error(y_p_pinn, y_true)\n",
    "rmse_pinn = mean_squared_error(y_p_pinn, y_true, squared=False)\n",
    "inf_norm_pinn = np.linalg.norm(y_p_pinn - y_true, ord = np.inf)\n",
    "\n",
    "print(f\"R2_pinn: {R2_pinn}, mae_pinn: {mae_pinn}, rmse_pinn: {rmse_pinn}, inf_norm_pinn: {inf_norm_pinn}\")"
   ]
  },
  {
   "cell_type": "code",
   "execution_count": 3,
   "id": "64292776",
   "metadata": {
    "ExecuteTime": {
     "end_time": "2025-05-11T08:54:55.641692Z",
     "start_time": "2025-05-11T08:54:54.598476Z"
    }
   },
   "outputs": [
    {
     "name": "stdout",
     "output_type": "stream",
     "text": [
      "数据已保存至 pinn_12.csv\n"
     ]
    }
   ],
   "source": [
    "import numpy as np\n",
    "import pandas as pd\n",
    "\n",
    "data_to_save = pd.DataFrame({\n",
    "    'x': x_test.flatten(),\n",
    "    'y_pred_pinn': y_p_pinn.flatten(),\n",
    "    'y_exact': y_true.flatten()\n",
    "})\n",
    "\n",
    "data_to_save.to_csv('pinn_12.csv', index=False)\n",
    "print(\" pinn_12.csv\")"
   ]
  },
  {
   "cell_type": "code",
   "execution_count": null,
   "id": "b09e015b",
   "metadata": {},
   "outputs": [],
   "source": []
  }
 ],
 "metadata": {
  "kernelspec": {
   "display_name": "Python 3 (ipykernel)",
   "language": "python",
   "name": "python3"
  },
  "language_info": {
   "codemirror_mode": {
    "name": "ipython",
    "version": 3
   },
   "file_extension": ".py",
   "mimetype": "text/x-python",
   "name": "python",
   "nbconvert_exporter": "python",
   "pygments_lexer": "ipython3",
   "version": "3.9.12"
  }
 },
 "nbformat": 4,
 "nbformat_minor": 5
}
