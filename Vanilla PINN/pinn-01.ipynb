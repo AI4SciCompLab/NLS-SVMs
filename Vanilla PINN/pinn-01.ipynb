{
 "cells": [
  {
   "cell_type": "code",
   "execution_count": 1,
   "id": "0b08119e",
   "metadata": {
    "ExecuteTime": {
     "end_time": "2025-05-11T04:18:29.381784Z",
     "start_time": "2025-05-11T04:07:17.785205Z"
    }
   },
   "outputs": [
    {
     "name": "stdout",
     "output_type": "stream",
     "text": [
      "Epoch 0, Loss: 305.24570\n",
      "Epoch 1000, Loss: 0.20904\n",
      "Epoch 2000, Loss: 0.00717\n",
      "Epoch 3000, Loss: 0.00270\n",
      "Epoch 4000, Loss: 0.00141\n",
      "Epoch 5000, Loss: 0.00090\n",
      "Epoch 6000, Loss: 0.00074\n",
      "Epoch 7000, Loss: 0.00071\n",
      "Epoch 8000, Loss: 0.00050\n",
      "Epoch 9000, Loss: 0.00042\n"
     ]
    },
    {
     "data": {
      "image/png": "[encoded data removed]",
      "text/plain": [
       "<Figure size 576x288 with 1 Axes>"
      ]
     },
     "metadata": {
      "needs_background": "light"
     },
     "output_type": "display_data"
    }
   ],
   "source": [
    "import torch\n",
    "import torch.nn as nn\n",
    "import numpy as np\n",
    "import matplotlib.pyplot as plt\n",
    "\n",
    "# Define the Physics-Informed Neural Network (PINN)\n",
    "class PINN(nn.Module):\n",
    "    def __init__(self):\n",
    "        super().__init__()\n",
    "        self.net = nn.Sequential(\n",
    "            nn.Linear(1, 20),    # Input layer (x) to hidden layer 1\n",
    "            nn.Tanh(),\n",
    "            nn.Linear(20, 20),   # Hidden layer 1 to hidden layer 2\n",
    "            nn.Tanh(),\n",
    "            nn.Linear(20, 20),   # Hidden layer 2 to hidden layer 3\n",
    "            nn.Tanh(),\n",
    "            nn.Linear(20, 1)     # Output layer (predicted y value)\n",
    "        )\n",
    "    \n",
    "    def forward(self, x):\n",
    "        return self.net(x)\n",
    "\n",
    "# Compute the loss function (equation residual + initial condition)\n",
    "def compute_loss(net, x_domain):\n",
    "    x = x_domain.clone().requires_grad_(True)  # Enable gradient tracking\n",
    "    y_pred = net(x)\n",
    "    \n",
    "    # Compute the first derivative of y\n",
    "    y_prime = torch.autograd.grad(\n",
    "        outputs=y_pred,\n",
    "        inputs=x,\n",
    "        grad_outputs=torch.ones_like(y_pred),\n",
    "        create_graph=True\n",
    "    )[0]\n",
    "    \n",
    "    # Compute coefficients in the differential equation\n",
    "    denominator = 1 + x + x**3\n",
    "    term = (1 + 3*x**2) / denominator\n",
    "    P = x + term\n",
    "    Q = x**3 + 2*x + x**2 * (1 + 3*x**2) / denominator\n",
    "    \n",
    "    # Equation residual: LHS - RHS\n",
    "    residual = y_prime + P * y_pred - Q\n",
    "    equation_loss = torch.mean(residual**2)  # Mean squared error of the residual\n",
    "    \n",
    "    # Initial condition (y(0) = 1)\n",
    "    x_initial = torch.tensor([[0.0]], dtype=torch.float32)\n",
    "    y_initial_pred = net(x_initial)\n",
    "    initial_loss = (y_initial_pred - 1.0)**2  # Initial condition loss\n",
    "    \n",
    "    return equation_loss + initial_loss\n",
    "\n",
    "# Training setup\n",
    "net = PINN()\n",
    "optimizer = torch.optim.Adam(net.parameters(), lr=0.001)\n",
    "epochs = 10000  # Number of training epochs\n",
    "domain_range = [0.0, 3.0]  # Domain range\n",
    "\n",
    "# Training loop\n",
    "for epoch in range(epochs):\n",
    "    # Randomly sample training points within the domain\n",
    "    x_train = torch.rand(1000, 1) * (domain_range[1] - domain_range[0]) + domain_range[0]\n",
    "    \n",
    "    # Compute total loss and backpropagate\n",
    "    optimizer.zero_grad()\n",
    "    loss = compute_loss(net, x_train)\n",
    "    loss.backward()\n",
    "    optimizer.step()\n",
    "    \n",
    "    # Print loss every 1000 epochs\n",
    "    if epoch % 1000 == 0:\n",
    "        print(f'Epoch {epoch}, Loss: {loss.item():.5f}')\n",
    "\n",
    "\n",
    "x_test = torch.linspace(domain_range[0], domain_range[1], 1000).reshape(-1, 1)\n",
    "y_pred = net(x_test).detach().numpy()\n",
    "\n",
    "# Exact solution (given in the problem)\n",
    "def exact_solution(x):\n",
    "    return np.exp((-x**2)/2)/(1+x+x**3) + x**2\n",
    "\n",
    "y_exact = exact_solution(x_test.numpy())\n",
    "\n",
    "import os\n",
    "os.environ['KMP_DUPLICATE_LIB_OK'] = 'TRUE'\n",
    "plt.figure(figsize=(8, 4))\n",
    "plt.plot(x_test, y_pred, 'b--', linewidth=2, label='PINN Prediction')\n",
    "plt.plot(x_test, y_exact, 'r-', linewidth=1, label='Exact Solution')\n",
    "plt.xlabel('Time t')\n",
    "plt.ylabel('Displacement u(t)')\n",
    "plt.legend()\n",
    "plt.title('Comparison of PINN and Exact Solution')\n",
    "plt.grid(True)\n",
    "plt.show()"
   ]
  },
  {
   "cell_type": "code",
   "execution_count": 2,
   "id": "3e6d79d1",
   "metadata": {
    "ExecuteTime": {
     "end_time": "2025-05-11T04:18:30.391911Z",
     "start_time": "2025-05-11T04:18:29.384785Z"
    }
   },
   "outputs": [
    {
     "name": "stdout",
     "output_type": "stream",
     "text": [
      "R2_pinn: 0.9999958806147902, mae_pinn: 0.00445417407900095, rmse_pinn: 0.005049563944339752, inf_norm_pinn: 0.009906470775604248\n"
     ]
    }
   ],
   "source": [
    "from sklearn.metrics import mean_squared_error\n",
    "from sklearn.metrics import r2_score\n",
    "from sklearn.metrics import mean_absolute_error\n",
    "y_exact = y_exact.reshape(-1, 1)\n",
    "y_p_pinn = y_pred\n",
    "y_true = y_exact\n",
    "R2_pinn = r2_score(y_p_pinn, y_true)\n",
    "mae_pinn = mean_absolute_error(y_p_pinn, y_true)\n",
    "rmse_pinn = mean_squared_error(y_p_pinn, y_true, squared=False)\n",
    "inf_norm_pinn = np.linalg.norm(y_p_pinn - y_true, ord = np.inf)\n",
    "\n",
    "print(f\"R2_pinn: {R2_pinn}, mae_pinn: {mae_pinn}, rmse_pinn: {rmse_pinn}, inf_norm_pinn: {inf_norm_pinn}\")"
   ]
  },
  {
   "cell_type": "code",
   "execution_count": 3,
   "id": "01a6df71",
   "metadata": {
    "ExecuteTime": {
     "end_time": "2025-05-11T04:18:30.996866Z",
     "start_time": "2025-05-11T04:18:30.395907Z"
    }
   },
   "outputs": [
    {
     "name": "stdout",
     "output_type": "stream",
     "text": [
      "数据已保存至 pinn_01.csv\n"
     ]
    }
   ],
   "source": [
    "import numpy as np\n",
    "import pandas as pd\n",
    "\n",
    "data_to_save = pd.DataFrame({\n",
    "    'x': x_test.flatten(),\n",
    "    'y_pred_pinn': y_p_pinn.flatten(),\n",
    "    'y_exact': y_true.flatten()\n",
    "})\n",
    "\n",
    "# 保存为 CSV 文件\n",
    "data_to_save.to_csv('pinn_01.csv', index=False)\n",
    "print(\" pinn_01.csv\")"
   ]
  },
  {
   "cell_type": "code",
   "execution_count": null,
   "id": "7995093f",
   "metadata": {},
   "outputs": [],
   "source": []
  }
 ],
 "metadata": {
  "kernelspec": {
   "display_name": "Python 3 (ipykernel)",
   "language": "python",
   "name": "python3"
  },
  "language_info": {
   "codemirror_mode": {
    "name": "ipython",
    "version": 3
   },
   "file_extension": ".py",
   "mimetype": "text/x-python",
   "name": "python",
   "nbconvert_exporter": "python",
   "pygments_lexer": "ipython3",
   "version": "3.9.12"
  }
 },
 "nbformat": 4,
 "nbformat_minor": 5
}
