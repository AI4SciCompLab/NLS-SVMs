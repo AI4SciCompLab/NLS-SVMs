{
 "cells": [
  {
   "cell_type": "code",
   "execution_count": 1,
   "id": "a1fe5a0f",
   "metadata": {
    "ExecuteTime": {
     "end_time": "2025-09-16T04:35:59.593426Z",
     "start_time": "2025-09-16T03:51:00.331362Z"
    }
   },
   "outputs": [
    {
     "name": "stdout",
     "output_type": "stream",
     "text": [
      "开始训练...\n",
      "Epoch 0, Loss: 4878.3828125\n",
      "Epoch 1000, Loss: 88.4515151977539\n",
      "Epoch 2000, Loss: 62.76615905761719\n",
      "Epoch 3000, Loss: 9.407642364501953\n",
      "Epoch 4000, Loss: 0.9186469316482544\n",
      "Epoch 5000, Loss: 0.14000600576400757\n",
      "Epoch 6000, Loss: 0.04243173450231552\n",
      "Epoch 7000, Loss: 0.12672007083892822\n",
      "Epoch 8000, Loss: 0.266695111989975\n",
      "Epoch 9000, Loss: 0.02279633656144142\n",
      "训练完成!\n",
      "相对误差: 0.64%\n"
     ]
    },
    {
     "name": "stderr",
     "output_type": "stream",
     "text": [
      "E:\\Anaconda\\lib\\site-packages\\IPython\\core\\pylabtools.py:151: UserWarning: Glyph 24494 (\\N{CJK UNIFIED IDEOGRAPH-5FAE}) missing from current font.\n",
      "  fig.canvas.print_figure(bytes_io, **kw)\n",
      "E:\\Anaconda\\lib\\site-packages\\IPython\\core\\pylabtools.py:151: UserWarning: Glyph 20998 (\\N{CJK UNIFIED IDEOGRAPH-5206}) missing from current font.\n",
      "  fig.canvas.print_figure(bytes_io, **kw)\n",
      "E:\\Anaconda\\lib\\site-packages\\IPython\\core\\pylabtools.py:151: UserWarning: Glyph 26041 (\\N{CJK UNIFIED IDEOGRAPH-65B9}) missing from current font.\n",
      "  fig.canvas.print_figure(bytes_io, **kw)\n",
      "E:\\Anaconda\\lib\\site-packages\\IPython\\core\\pylabtools.py:151: UserWarning: Glyph 31243 (\\N{CJK UNIFIED IDEOGRAPH-7A0B}) missing from current font.\n",
      "  fig.canvas.print_figure(bytes_io, **kw)\n",
      "E:\\Anaconda\\lib\\site-packages\\IPython\\core\\pylabtools.py:151: UserWarning: Glyph 35299 (\\N{CJK UNIFIED IDEOGRAPH-89E3}) missing from current font.\n",
      "  fig.canvas.print_figure(bytes_io, **kw)\n",
      "E:\\Anaconda\\lib\\site-packages\\IPython\\core\\pylabtools.py:151: UserWarning: Glyph 30340 (\\N{CJK UNIFIED IDEOGRAPH-7684}) missing from current font.\n",
      "  fig.canvas.print_figure(bytes_io, **kw)\n",
      "E:\\Anaconda\\lib\\site-packages\\IPython\\core\\pylabtools.py:151: UserWarning: Glyph 27604 (\\N{CJK UNIFIED IDEOGRAPH-6BD4}) missing from current font.\n",
      "  fig.canvas.print_figure(bytes_io, **kw)\n",
      "E:\\Anaconda\\lib\\site-packages\\IPython\\core\\pylabtools.py:151: UserWarning: Glyph 36739 (\\N{CJK UNIFIED IDEOGRAPH-8F83}) missing from current font.\n",
      "  fig.canvas.print_figure(bytes_io, **kw)\n",
      "E:\\Anaconda\\lib\\site-packages\\IPython\\core\\pylabtools.py:151: UserWarning: Glyph 26512 (\\N{CJK UNIFIED IDEOGRAPH-6790}) missing from current font.\n",
      "  fig.canvas.print_figure(bytes_io, **kw)\n",
      "E:\\Anaconda\\lib\\site-packages\\IPython\\core\\pylabtools.py:151: UserWarning: Glyph 39044 (\\N{CJK UNIFIED IDEOGRAPH-9884}) missing from current font.\n",
      "  fig.canvas.print_figure(bytes_io, **kw)\n",
      "E:\\Anaconda\\lib\\site-packages\\IPython\\core\\pylabtools.py:151: UserWarning: Glyph 27979 (\\N{CJK UNIFIED IDEOGRAPH-6D4B}) missing from current font.\n",
      "  fig.canvas.print_figure(bytes_io, **kw)\n"
     ]
    },
    {
     "data": {
      "image/png": "[encoded data removed]",
      "text/plain": [
       "<Figure size 864x576 with 1 Axes>"
      ]
     },
     "metadata": {
      "needs_background": "light"
     },
     "output_type": "display_data"
    }
   ],
   "source": [
    "import torch\n",
    "import torch.nn as nn\n",
    "import numpy as np\n",
    "import matplotlib.pyplot as plt\n",
    "from torch.autograd import grad\n",
    "\n",
    "# Set random seed for reproducible results\n",
    "torch.manual_seed(42)\n",
    "np.random.seed(42)\n",
    "\n",
    "# Define neural network model\n",
    "class PINN(nn.Module):\n",
    "    def __init__(self, layers):\n",
    "        super(PINN, self).__init__()\n",
    "        self.layers = layers\n",
    "        self.activation = nn.Tanh()  # Use Tanh activation function\n",
    "        \n",
    "        # Build fully connected neural network\n",
    "        self.linears = nn.ModuleList()\n",
    "        for i in range(len(layers)-1):\n",
    "            self.linears.append(nn.Linear(layers[i], layers[i+1]))\n",
    "            \n",
    "    def forward(self, x):\n",
    "        # Convert input to float tensor\n",
    "        if not torch.is_tensor(x):\n",
    "            x = torch.tensor(x, dtype=torch.float32, requires_grad=True)\n",
    "        \n",
    "        # Forward propagation\n",
    "        for i in range(len(self.linears)-1):\n",
    "            x = self.activation(self.linears[i](x))\n",
    "        x = self.linears[-1](x)\n",
    "        return x\n",
    "\n",
    "# Define physics-informed loss function\n",
    "def physics_loss(model, x):\n",
    "    \"\"\"\n",
    "    Compute physics-informed loss, i.e., residual of the differential equation\n",
    "    \"\"\"\n",
    "    # Set requires_grad=True to compute gradients\n",
    "    x.requires_grad = True\n",
    "    \n",
    "    # Compute network output\n",
    "    y = model(x)\n",
    "    \n",
    "    # Compute first derivative\n",
    "    dy_dx = grad(y, x, torch.ones_like(y), create_graph=True)[0]\n",
    "    \n",
    "    # Compute second derivative\n",
    "    d2y_dx2 = grad(dy_dx, x, torch.ones_like(dy_dx), create_graph=True)[0]\n",
    "    \n",
    "    # Compute third derivative\n",
    "    d3y_dx3 = grad(d2y_dx2, x, torch.ones_like(d2y_dx2), create_graph=True)[0]\n",
    "    \n",
    "    # Compute fourth derivative\n",
    "    d4y_dx4 = grad(d3y_dx3, x, torch.ones_like(d3y_dx3), create_graph=True)[0]\n",
    "    \n",
    "    # Compute differential equation residual: d^4y/dx^4 - 120x\n",
    "    residual = d4y_dx4 - 120 * x\n",
    "    \n",
    "    # Return mean squared error\n",
    "    return torch.mean(residual**2)\n",
    "\n",
    "# Define boundary condition loss function\n",
    "def boundary_loss(model):\n",
    "    \"\"\"\n",
    "    Compute boundary condition loss\n",
    "    \"\"\"\n",
    "    # Left boundary point x = -1\n",
    "    x_left = torch.tensor([[-1.0]], requires_grad=True)\n",
    "    y_left = model(x_left)\n",
    "    dy_dx_left = grad(y_left, x_left, torch.ones_like(y_left), create_graph=True)[0]\n",
    "    \n",
    "    # Right boundary point x = 1\n",
    "    x_right = torch.tensor([[1.0]], requires_grad=True)\n",
    "    y_right = model(x_right)\n",
    "    dy_dx_right = grad(y_right, x_right, torch.ones_like(y_right), create_graph=True)[0]\n",
    "    \n",
    "    # Compute boundary condition loss\n",
    "    # y(-1) = 1, y'(-1) = 5, y(1) = 3, y'(1) = 5\n",
    "    loss_bc = (y_left - 1)**2 + (dy_dx_left - 5)**2 + (y_right - 3)**2 + (dy_dx_right - 5)**2\n",
    "    \n",
    "    return loss_bc\n",
    "\n",
    "# Define training function\n",
    "def train_pinn(model, epochs, lr):\n",
    "    \"\"\"\n",
    "    Train PINN model\n",
    "    \"\"\"\n",
    "    # Define optimizer\n",
    "    optimizer = torch.optim.Adam(model.parameters(), lr=lr)\n",
    "    \n",
    "    # Record loss history\n",
    "    loss_history = []\n",
    "    \n",
    "    # Generate training points\n",
    "    x_train = torch.linspace(-1, 1, 1000).view(-1, 1)\n",
    "    \n",
    "    # Training loop\n",
    "    for epoch in range(epochs):\n",
    "        # Zero gradients\n",
    "        optimizer.zero_grad()\n",
    "        \n",
    "        # Compute physics-informed loss\n",
    "        loss_physics = physics_loss(model, x_train)\n",
    "        \n",
    "        # Compute boundary condition loss\n",
    "        loss_bc = boundary_loss(model)\n",
    "        \n",
    "        # Total loss\n",
    "        loss = loss_physics + loss_bc\n",
    "        \n",
    "        # Backward propagation\n",
    "        loss.backward()\n",
    "        optimizer.step()\n",
    "        \n",
    "        # Record loss\n",
    "        loss_history.append(loss.item())\n",
    "        \n",
    "        # Print loss every 1000 iterations\n",
    "        if epoch % 1000 == 0:\n",
    "            print(f'Epoch {epoch}, Loss: {loss.item()}')\n",
    "    \n",
    "    return loss_history\n",
    "\n",
    "# Define analytical solution for comparison\n",
    "def analytical_solution(x):\n",
    "    return x**5 + 2\n",
    "\n",
    "\n",
    "# Set network architecture\n",
    "layers = [1, 20, 20, 20, 1]  # Input layer, 3 hidden layers, output layer\n",
    "\n",
    "# Create model\n",
    "model = PINN(layers)\n",
    "\n",
    "# Training parameters\n",
    "epochs = 10000\n",
    "learning_rate = 0.001\n",
    "\n",
    "# Train model\n",
    "print(\"Starting training...\")\n",
    "loss_history = train_pinn(model, epochs, learning_rate)\n",
    "print(\"Training completed!\")\n",
    "\n",
    "# Test model\n",
    "x_test = torch.linspace(-1, 1, 1000).view(-1, 1)\n",
    "y_pred = model(x_test).detach().numpy()\n",
    "y_true = analytical_solution(x_test.numpy())\n",
    "\n",
    "# Compute relative error\n",
    "relative_error = np.mean(np.abs(y_pred - y_true) / np.abs(y_true))\n",
    "print(f\"Relative error: {relative_error*100:.2f}%\")\n",
    "\n",
    "\n",
    "import os\n",
    "os.environ['KMP_DUPLICATE_LIB_OK'] = 'TRUE'\n",
    "# Plot results\n",
    "plt.figure(figsize=(12, 8))\n",
    "\n",
    "# Plot predicted solution and analytical solution\n",
    "plt.subplot(2, 2, 1)\n",
    "plt.plot(x_test.numpy(), y_true, 'b-', linewidth=2, label='Analytical Solution')\n",
    "plt.plot(x_test.numpy(), y_pred, 'r--', linewidth=2, label='PINN Prediction')\n",
    "plt.xlabel('x')\n",
    "plt.ylabel('y')\n",
    "plt.title('Comparison of Differential Equation Solutions')\n",
    "plt.legend()\n",
    "plt.grid(True)"
   ]
  },
  {
   "cell_type": "code",
   "execution_count": 2,
   "id": "53c085d7",
   "metadata": {
    "ExecuteTime": {
     "end_time": "2025-09-16T04:42:23.278132Z",
     "start_time": "2025-09-16T04:42:22.623380Z"
    }
   },
   "outputs": [
    {
     "name": "stdout",
     "output_type": "stream",
     "text": [
      "R2_pinn: 0.9981247064216378, mae_pinn: 0.012358017265796661, rmse_pinn: 0.013540714047849178, inf_norm_pinn: 0.0179593563079834\n"
     ]
    }
   ],
   "source": [
    "from sklearn.metrics import mean_squared_error\n",
    "from sklearn.metrics import r2_score\n",
    "from sklearn.metrics import mean_absolute_error\n",
    "y_exact = y_true.reshape(-1, 1)\n",
    "y_p_pinn = y_pred\n",
    "y_true = y_exact\n",
    "R2_pinn = r2_score(y_p_pinn, y_true)\n",
    "mae_pinn = mean_absolute_error(y_p_pinn, y_true)\n",
    "rmse_pinn = mean_squared_error(y_p_pinn, y_true, squared=False)\n",
    "inf_norm_pinn = np.linalg.norm(y_p_pinn - y_true, ord = np.inf)\n",
    "\n",
    "print(f\"R2_pinn: {R2_pinn}, mae_pinn: {mae_pinn}, rmse_pinn: {rmse_pinn}, inf_norm_pinn: {inf_norm_pinn}\")"
   ]
  },
  {
   "cell_type": "code",
   "execution_count": 3,
   "id": "212de070",
   "metadata": {
    "ExecuteTime": {
     "end_time": "2025-09-16T04:42:53.160524Z",
     "start_time": "2025-09-16T04:42:53.012667Z"
    }
   },
   "outputs": [
    {
     "name": "stdout",
     "output_type": "stream",
     "text": [
      "数据已保存至 pinn_16.csv\n"
     ]
    }
   ],
   "source": [
    "import numpy as np\n",
    "import pandas as pd\n",
    "\n",
    "data_to_save = pd.DataFrame({\n",
    "    'x': x_test.flatten(),\n",
    "    'y_pred_pinn': y_p_pinn.flatten(),\n",
    "    'y_exact': y_true.flatten()\n",
    "})\n",
    "\n",
    "data_to_save.to_csv('pinn_16.csv', index=False)\n",
    "print(\" pinn_16.csv\")"
   ]
  },
  {
   "cell_type": "code",
   "execution_count": null,
   "id": "2b386eb4",
   "metadata": {},
   "outputs": [],
   "source": []
  }
 ],
 "metadata": {
  "kernelspec": {
   "display_name": "Python 3 (ipykernel)",
   "language": "python",
   "name": "python3"
  },
  "language_info": {
   "codemirror_mode": {
    "name": "ipython",
    "version": 3
   },
   "file_extension": ".py",
   "mimetype": "text/x-python",
   "name": "python",
   "nbconvert_exporter": "python",
   "pygments_lexer": "ipython3",
   "version": "3.9.12"
  }
 },
 "nbformat": 4,
 "nbformat_minor": 5
}
