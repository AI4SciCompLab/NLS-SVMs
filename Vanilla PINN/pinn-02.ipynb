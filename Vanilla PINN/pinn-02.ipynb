{
 "cells": [
  {
   "cell_type": "code",
   "execution_count": 1,
   "id": "9642226f-ded4-4c45-90cf-ef2ce745123b",
   "metadata": {
    "ExecuteTime": {
     "end_time": "2025-05-11T04:51:37.984884Z",
     "start_time": "2025-05-11T04:44:54.607608Z"
    }
   },
   "outputs": [
    {
     "name": "stdout",
     "output_type": "stream",
     "text": [
      "Epoch 0, Loss: 0.9832956194877625\n",
      "Epoch 1000, Loss: 5.4837437346577644e-06\n",
      "Epoch 2000, Loss: 7.760135076750885e-07\n",
      "Epoch 3000, Loss: 4.3969342300442804e-07\n",
      "Epoch 4000, Loss: 4.410149188061041e-07\n",
      "Epoch 5000, Loss: 0.0005256475997157395\n",
      "Epoch 6000, Loss: 3.6028362160323013e-07\n",
      "Epoch 7000, Loss: 5.688784199264774e-07\n",
      "Epoch 8000, Loss: 1.9977461818143638e-07\n",
      "Epoch 9000, Loss: 9.704699550638907e-07\n"
     ]
    }
   ],
   "source": [
    "import torch\n",
    "import torch.nn as nn\n",
    "import torch.optim as optim\n",
    "import numpy as np\n",
    "import matplotlib.pyplot as plt\n",
    "from sklearn.metrics import mean_squared_error\n",
    "\n",
    "# Define the Physics-Informed Neural Network model\n",
    "class PINN(nn.Module):\n",
    "    def __init__(self):\n",
    "        super(PINN, self).__init__()\n",
    "        # Define the neural network structure: 3 fully connected layers with tanh activation\n",
    "        self.net = nn.Sequential(\n",
    "            nn.Linear(1, 20),   # Input layer: 1 node (independent variable x), hidden layer with 20 nodes\n",
    "            nn.Tanh(),\n",
    "            nn.Linear(20, 20),  # Hidden layer with 20 nodes\n",
    "            nn.Tanh(),\n",
    "            nn.Linear(20, 1)    # Output layer: 1 node (dependent variable y)\n",
    "        )\n",
    "    \n",
    "    def forward(self, x):\n",
    "        return self.net(x)\n",
    "\n",
    "# Define the differential equation: dy/dx + y = 0, with initial condition y(0)=1 (analytical solution: y = e^(-x))\n",
    "def compute_loss(model):\n",
    "    # Initial condition loss (x=0, y=1)\n",
    "    x_ic = torch.tensor([[0.0]], dtype=torch.float32, requires_grad=True)\n",
    "    y_ic_true = torch.tensor([[1.0]], dtype=torch.float32)\n",
    "    y_ic_pred = model(x_ic)\n",
    "    loss_ic = torch.mean((y_ic_pred - y_ic_true)**2)  # MSE loss\n",
    "    \n",
    "    # Differential equation residual loss (sample points in the domain)\n",
    "    x_collocation = torch.linspace(0, 10, 10000).view(-1, 1).requires_grad_(True)\n",
    "    y_pred = model(x_collocation)\n",
    "    \n",
    "    # Compute dy/dx (using automatic differentiation)\n",
    "    dydx = torch.autograd.grad(\n",
    "        outputs=y_pred,\n",
    "        inputs=x_collocation,\n",
    "        grad_outputs=torch.ones_like(y_pred),\n",
    "        create_graph=True\n",
    "    )[0]\n",
    "    \n",
    "    # Differential equation residual: dy/dx + y = 0\n",
    "    equation_residual = dydx + y_pred\n",
    "    loss_ode = torch.mean(equation_residual**2)  # MSE loss\n",
    "    \n",
    "    # Total loss = initial condition loss + ODE residual loss\n",
    "    total_loss = loss_ic + loss_ode\n",
    "    return total_loss\n",
    "\n",
    "# Training configuration\n",
    "model = PINN()\n",
    "optimizer = optim.Adam(model.parameters(), lr=0.01)  # Adam optimizer\n",
    "epochs = 10000  # Number of training epochs\n",
    "\n",
    "# Training loop\n",
    "for epoch in range(epochs):\n",
    "    optimizer.zero_grad()\n",
    "    loss = compute_loss(model)\n",
    "    loss.backward()\n",
    "    optimizer.step()\n",
    "    \n",
    "    if epoch % 1000 == 0:  # Print loss every 1000 epochs\n",
    "        print(f'Epoch {epoch}, Loss: {loss.item()}')\n",
    "\n",
    "\n",
    "# Model prediction and visualization\n",
    "x_test = torch.linspace(0, 10, 10000).view(-1, 1)\n",
    "y_pred = model(x_test).detach().numpy()\n",
    "y_true = np.exp(-x_test.numpy())  # Analytical solution"
   ]
  },
  {
   "cell_type": "code",
   "execution_count": 2,
   "id": "62e3d082-faa5-49ac-a1c4-87883b0ec498",
   "metadata": {
    "ExecuteTime": {
     "end_time": "2025-05-11T04:51:38.331381Z",
     "start_time": "2025-05-11T04:51:37.988471Z"
    }
   },
   "outputs": [
    {
     "data": {
      "image/png": "[encoded data removed]",
      "text/plain": [
       "<Figure size 576x360 with 1 Axes>"
      ]
     },
     "metadata": {
      "needs_background": "light"
     },
     "output_type": "display_data"
    }
   ],
   "source": [
    "import os\n",
    "os.environ['KMP_DUPLICATE_LIB_OK'] = 'TRUE'\n",
    "plt.figure(figsize=(8, 5))\n",
    "plt.plot(x_test.numpy(), y_true, label='Analytical Solution', linewidth=2)\n",
    "plt.plot(x_test.numpy(), y_pred, '--', label='PINN Prediction', linewidth=2)\n",
    "plt.xlabel('x', fontsize=12)\n",
    "plt.ylabel('y', fontsize=12)\n",
    "plt.title('Solution of dy/dx + y = 0', fontsize=14)\n",
    "plt.legend(fontsize=12)\n",
    "plt.grid(True)\n",
    "plt.show()"
   ]
  },
  {
   "cell_type": "code",
   "execution_count": 3,
   "id": "3863468e-35c8-4de9-acbe-1379ef5671d8",
   "metadata": {
    "ExecuteTime": {
     "end_time": "2025-05-11T04:51:38.350066Z",
     "start_time": "2025-05-11T04:51:38.334709Z"
    }
   },
   "outputs": [
    {
     "name": "stdout",
     "output_type": "stream",
     "text": [
      "R2_pinn: 0.9998914420975993, mae_pinn: 0.002032418502494693, rmse_pinn: 0.0020891057793051004, inf_norm_pinn: 0.0032586753368377686\n"
     ]
    }
   ],
   "source": [
    "from sklearn.metrics import mean_squared_error\n",
    "from sklearn.metrics import r2_score\n",
    "from sklearn.metrics import mean_absolute_error\n",
    "y_true = y_true.reshape(-1, 1)\n",
    "y_p_pinn = y_pred\n",
    "y_true = y_true\n",
    "R2_pinn = r2_score(y_p_pinn, y_true)\n",
    "mae_pinn = mean_absolute_error(y_p_pinn, y_true)\n",
    "rmse_pinn = mean_squared_error(y_p_pinn, y_true, squared=False)\n",
    "inf_norm_pinn = np.linalg.norm(y_p_pinn - y_true, ord = np.inf)\n",
    "\n",
    "print(f\"R2_pinn: {R2_pinn}, mae_pinn: {mae_pinn}, rmse_pinn: {rmse_pinn}, inf_norm_pinn: {inf_norm_pinn}\")"
   ]
  },
  {
   "cell_type": "code",
   "execution_count": 4,
   "id": "2582c7e8",
   "metadata": {
    "ExecuteTime": {
     "end_time": "2025-05-11T04:51:39.128658Z",
     "start_time": "2025-05-11T04:51:38.351081Z"
    }
   },
   "outputs": [
    {
     "name": "stdout",
     "output_type": "stream",
     "text": [
      "数据已保存至 pinn_02.csv\n"
     ]
    }
   ],
   "source": [
    "import numpy as np\n",
    "import pandas as pd\n",
    "\n",
    "data_to_save = pd.DataFrame({\n",
    "    'x': x_test.flatten(),\n",
    "    'y_pred_pinn': y_p_pinn.flatten(),\n",
    "    'y_exact': y_true.flatten()\n",
    "})\n",
    "\n",
    "data_to_save.to_csv('pinn_02.csv', index=False)\n",
    "print(\"pinn_02.csv\")"
   ]
  },
  {
   "cell_type": "code",
   "execution_count": null,
   "id": "d3671dc4-046b-4f0f-9692-2adaa4ef3af1",
   "metadata": {},
   "outputs": [],
   "source": []
  }
 ],
 "metadata": {
  "kernelspec": {
   "display_name": "Python 3 (ipykernel)",
   "language": "python",
   "name": "python3"
  },
  "language_info": {
   "codemirror_mode": {
    "name": "ipython",
    "version": 3
   },
   "file_extension": ".py",
   "mimetype": "text/x-python",
   "name": "python",
   "nbconvert_exporter": "python",
   "pygments_lexer": "ipython3",
   "version": "3.9.12"
  }
 },
 "nbformat": 4,
 "nbformat_minor": 5
}
