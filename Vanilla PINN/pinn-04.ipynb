{
 "cells": [
  {
   "cell_type": "code",
   "execution_count": 1,
   "id": "9820a63f",
   "metadata": {
    "ExecuteTime": {
     "end_time": "2025-05-11T05:34:59.721009Z",
     "start_time": "2025-05-11T05:26:43.489499Z"
    }
   },
   "outputs": [
    {
     "name": "stdout",
     "output_type": "stream",
     "text": [
      "Epoch 0, Loss: 6.53228\n",
      "Epoch 2000, Loss: 0.04101\n",
      "Epoch 4000, Loss: 0.04088\n",
      "Epoch 6000, Loss: 0.04062\n",
      "Epoch 8000, Loss: 0.03496\n"
     ]
    },
    {
     "data": {
      "image/png": "[encoded data removed]",
      "text/plain": [
       "<Figure size 720x432 with 1 Axes>"
      ]
     },
     "metadata": {
      "needs_background": "light"
     },
     "output_type": "display_data"
    }
   ],
   "source": [
    "import torch\n",
    "import torch.nn as nn\n",
    "import torch.optim as optim\n",
    "import numpy as np\n",
    "import matplotlib.pyplot as plt\n",
    "\n",
    "# Define the neural network model\n",
    "class PINN(nn.Module):\n",
    "    def __init__(self):\n",
    "        super(PINN, self).__init__()\n",
    "        self.fc1 = nn.Linear(1, 20)\n",
    "        self.fc2 = nn.Linear(20, 20)\n",
    "        self.fc3 = nn.Linear(20, 20)\n",
    "        self.fc4 = nn.Linear(20, 1)\n",
    "        self.act = nn.Tanh()\n",
    "        self.softplus = nn.Softplus()  # Ensure positive output\n",
    "    \n",
    "    def forward(self, x):\n",
    "        x = self.act(self.fc1(x))\n",
    "        x = self.act(self.fc2(x))\n",
    "        x = self.act(self.fc3(x))\n",
    "        x = self.fc4(x)\n",
    "        x = self.softplus(x)\n",
    "        return x\n",
    "\n",
    "# Training function\n",
    "def train_pinn(model, x_ic, y_ic, x_col, epochs=10000, lr=0.001):\n",
    "    optimizer = optim.Adam(model.parameters(), lr=lr)\n",
    "    for epoch in range(epochs):\n",
    "        optimizer.zero_grad()\n",
    "        \n",
    "        # Initial condition loss\n",
    "        y_ic_pred = model(x_ic)\n",
    "        loss_ic = torch.mean((y_ic_pred - y_ic) ** 2)\n",
    "        \n",
    "        # Equation residual loss\n",
    "        y_col_pred = model(x_col)\n",
    "        dydx = torch.autograd.grad(\n",
    "            outputs=y_col_pred, inputs=x_col,\n",
    "            grad_outputs=torch.ones_like(y_col_pred),\n",
    "            create_graph=True\n",
    "        )[0]\n",
    "        rhs = y_col_pred - (x_col / y_col_pred)\n",
    "        residual = dydx - rhs\n",
    "        loss_eq = torch.mean(residual ** 2)\n",
    "        \n",
    "        total_loss = loss_ic + loss_eq\n",
    "        total_loss.backward()\n",
    "        optimizer.step()\n",
    "        \n",
    "        if epoch % 2000 == 0:\n",
    "            print(f'Epoch {epoch}, Loss: {total_loss.item():.5f}')\n",
    "    return model\n",
    "\n",
    "# Generate training data\n",
    "x_max = 3.0\n",
    "num_col_points = 1000\n",
    "x_col = torch.rand(num_col_points, 1) * x_max\n",
    "x_col.requires_grad = True\n",
    "\n",
    "# Initial condition\n",
    "x_ic = torch.tensor([[0.0]], dtype=torch.float32)\n",
    "y_ic = torch.tensor([[1.0]], dtype=torch.float32)\n",
    "\n",
    "# Initialize and train the model\n",
    "model = PINN()\n",
    "model = train_pinn(model, x_ic, y_ic, x_col, epochs=10000, lr=0.001)\n",
    "\n",
    "# Testing and plotting\n",
    "x_test = torch.linspace(0, x_max, 1000).view(-1, 1)\n",
    "with torch.no_grad():\n",
    "    y_pred = model(x_test).numpy()\n",
    "\n",
    "# Analytical solution\n",
    "def exact_solution(x):\n",
    "    return np.sqrt(x + 0.5 + 0.5 * np.exp(2 * x))\n",
    "\n",
    "x_test_np = x_test.numpy().flatten()\n",
    "y_exact = exact_solution(x_test_np)\n",
    "\n",
    "import os\n",
    "os.environ['KMP_DUPLICATE_LIB_OK'] = 'TRUE'\n",
    "plt.figure(figsize=(10, 6))\n",
    "plt.plot(x_test_np, y_pred, 'b-', label='PINN Solution', linewidth=2)\n",
    "plt.plot(x_test_np, y_exact, 'r--', label='Exact Solution', linewidth=2)\n",
    "plt.xlabel('x')\n",
    "plt.ylabel('y')\n",
    "plt.legend()\n",
    "plt.show()"
   ]
  },
  {
   "cell_type": "code",
   "execution_count": 2,
   "id": "2feb7511",
   "metadata": {
    "ExecuteTime": {
     "end_time": "2025-05-11T05:35:01.278787Z",
     "start_time": "2025-05-11T05:34:59.721009Z"
    }
   },
   "outputs": [
    {
     "name": "stdout",
     "output_type": "stream",
     "text": [
      "R2_pinn: 0.94553874751465, mae_pinn: 0.5354178547859192, rmse_pinn: 0.7213554382324219, inf_norm_pinn: 1.8082733154296875\n",
      "数据已保存至 pinn_04.csv\n"
     ]
    }
   ],
   "source": [
    "from sklearn.metrics import mean_squared_error\n",
    "from sklearn.metrics import r2_score\n",
    "from sklearn.metrics import mean_absolute_error\n",
    "y_exact = y_exact.reshape(-1, 1)\n",
    "y_p_pinn = y_pred\n",
    "y_true = y_exact\n",
    "R2_pinn = r2_score(y_p_pinn, y_true)\n",
    "mae_pinn = mean_absolute_error(y_p_pinn, y_true)\n",
    "rmse_pinn = mean_squared_error(y_p_pinn, y_true, squared=False)\n",
    "inf_norm_pinn = np.linalg.norm(y_p_pinn - y_true, ord = np.inf)\n",
    "\n",
    "print(f\"R2_pinn: {R2_pinn}, mae_pinn: {mae_pinn}, rmse_pinn: {rmse_pinn}, inf_norm_pinn: {inf_norm_pinn}\")\n",
    "\n",
    "import numpy as np\n",
    "import pandas as pd\n",
    "\n",
    "data_to_save = pd.DataFrame({\n",
    "    'x': x_test.flatten(),\n",
    "    'y_pred_pinn': y_p_pinn.flatten(),\n",
    "    'y_exact': y_true.flatten()\n",
    "})\n",
    "\n",
    "data_to_save.to_csv('pinn_04.csv', index=False)\n",
    "print(\"pinn_04.csv\")"
   ]
  },
  {
   "cell_type": "code",
   "execution_count": null,
   "id": "ea3e3179",
   "metadata": {
    "ExecuteTime": {
     "end_time": "2025-04-23T06:26:02.528611Z",
     "start_time": "2025-04-23T06:26:02.501262Z"
    }
   },
   "outputs": [],
   "source": []
  },
  {
   "cell_type": "code",
   "execution_count": null,
   "id": "b8d44a84",
   "metadata": {
    "ExecuteTime": {
     "end_time": "2025-04-23T06:26:03.512007Z",
     "start_time": "2025-04-23T06:26:03.380594Z"
    }
   },
   "outputs": [],
   "source": [
    "\n"
   ]
  },
  {
   "cell_type": "code",
   "execution_count": null,
   "id": "634fafa6",
   "metadata": {},
   "outputs": [],
   "source": []
  }
 ],
 "metadata": {
  "kernelspec": {
   "display_name": "Python 3 (ipykernel)",
   "language": "python",
   "name": "python3"
  },
  "language_info": {
   "codemirror_mode": {
    "name": "ipython",
    "version": 3
   },
   "file_extension": ".py",
   "mimetype": "text/x-python",
   "name": "python",
   "nbconvert_exporter": "python",
   "pygments_lexer": "ipython3",
   "version": "3.9.12"
  }
 },
 "nbformat": 4,
 "nbformat_minor": 5
}
