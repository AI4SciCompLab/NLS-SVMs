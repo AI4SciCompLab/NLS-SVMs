{
 "cells": [
  {
   "cell_type": "code",
   "execution_count": 1,
   "id": "e07ef421",
   "metadata": {
    "ExecuteTime": {
     "end_time": "2025-05-11T06:31:38.005307Z",
     "start_time": "2025-05-11T06:30:22.447752Z"
    }
   },
   "outputs": [
    {
     "name": "stdout",
     "output_type": "stream",
     "text": [
      "Epoch 00000 | Total Loss: 9.9924e-01 | Equation Loss: 7.9541e-01 | Initial Loss: 1.5525e-01 | Constraint Loss: 4.8580e-01\n",
      "Epoch 01000 | Total Loss: 2.7820e-03 | Equation Loss: 2.8888e-04 | Initial Loss: 4.0006e-04 | Constraint Loss: 2.0930e-02\n",
      "Epoch 02000 | Total Loss: 2.9642e-03 | Equation Loss: 2.3394e-04 | Initial Loss: 4.6632e-04 | Constraint Loss: 2.2639e-02\n",
      "Epoch 03000 | Total Loss: 2.2281e-03 | Equation Loss: 2.2277e-03 | Initial Loss: 4.3903e-07 | Constraint Loss: 0.0000e+00\n",
      "Epoch 04000 | Total Loss: 2.2827e-03 | Equation Loss: 1.1897e-04 | Initial Loss: 3.1962e-04 | Constraint Loss: 1.8441e-02\n",
      "Epoch 05000 | Total Loss: 2.6769e-03 | Equation Loss: 8.9918e-05 | Initial Loss: 4.3466e-04 | Constraint Loss: 2.1523e-02\n",
      "Epoch 06000 | Total Loss: 1.2899e-03 | Equation Loss: 5.4519e-05 | Initial Loss: 1.2182e-04 | Constraint Loss: 1.1136e-02\n",
      "Epoch 07000 | Total Loss: 1.0660e-04 | Equation Loss: 3.1420e-05 | Initial Loss: 1.6331e-07 | Constraint Loss: 7.5012e-04\n",
      "Epoch 08000 | Total Loss: 3.0468e-03 | Equation Loss: 4.0541e-05 | Initial Loss: 5.8715e-04 | Constraint Loss: 2.4191e-02\n",
      "Epoch 09000 | Total Loss: 4.7420e-04 | Equation Loss: 2.9794e-05 | Initial Loss: 1.9972e-05 | Constraint Loss: 4.2443e-03\n"
     ]
    },
    {
     "data": {
      "image/png": "[encoded data removed]",
      "text/plain": [
       "<Figure size 576x288 with 1 Axes>"
      ]
     },
     "metadata": {
      "needs_background": "light"
     },
     "output_type": "display_data"
    }
   ],
   "source": [
    "import torch\n",
    "import torch.nn as nn\n",
    "import numpy as np\n",
    "import matplotlib.pyplot as plt\n",
    "\n",
    "# Define the Physics-Informed Neural Network (PINN)\n",
    "class PINN(nn.Module):\n",
    "    def __init__(self):\n",
    "        super(PINN, self).__init__()\n",
    "        self.fc1 = nn.Linear(1, 10)   # Input layer to first hidden layer\n",
    "        self.fc2 = nn.Linear(10, 10)  # First hidden layer to second hidden layer\n",
    "        self.fc3 = nn.Linear(10, 1)   # Second hidden layer to output layer\n",
    "        self.activation = torch.tanh  # Activation function: tanh\n",
    "\n",
    "    def forward(self, x):\n",
    "        x = self.activation(self.fc1(x))\n",
    "        x = self.activation(self.fc2(x))\n",
    "        x = self.fc3(x)\n",
    "        return x\n",
    "\n",
    "# Initialize model and optimizer\n",
    "model = PINN()\n",
    "optimizer = torch.optim.Adam(model.parameters(), lr=0.001)\n",
    "\n",
    "# Generate training data: domain and initial condition\n",
    "x_domain = torch.linspace(1, 1.2, 300, requires_grad=True).view(-1, 1)  # Domain points with gradient tracking\n",
    "x_initial = torch.tensor([[1.0]], requires_grad=True)                    # Initial condition point x=1\n",
    "y_initial = torch.tensor([[0.0]])                                        # Initial condition y=0\n",
    "\n",
    "# Training parameters\n",
    "epochs = 10000  # Number of training epochs\n",
    "\n",
    "# Training loop\n",
    "for epoch in range(epochs):\n",
    "    optimizer.zero_grad()\n",
    "\n",
    "    # --- Compute differential equation residual loss ---\n",
    "    # Forward pass\n",
    "    y_pred_domain = model(x_domain)\n",
    "    # Compute dy/dx (automatic differentiation)\n",
    "    dy_dx = torch.autograd.grad(\n",
    "        outputs=y_pred_domain,\n",
    "        inputs=x_domain,\n",
    "        grad_outputs=torch.ones_like(y_pred_domain),\n",
    "        create_graph=True\n",
    "    )[0]\n",
    "    # Compute the right-hand side: 2/x * sqrt(y - lnx) + 1/x\n",
    "    ln_x = torch.log(x_domain)\n",
    "    term = y_pred_domain - ln_x\n",
    "    sqrt_term = torch.sqrt(torch.relu(term) + 1e-8)  # Avoid negatives, relu ensures non-negativity\n",
    "    right_side = 2.0 / x_domain * sqrt_term + 1.0 / x_domain\n",
    "    # Mean squared error of the equation residual\n",
    "    equation_loss = torch.mean((dy_dx - right_side) ** 2)\n",
    "\n",
    "    # --- Constraint loss: enforce y >= lnx ---\n",
    "    constraint_loss = torch.mean(torch.relu(-term))  # Penalize when term < 0\n",
    "\n",
    "    # --- Initial condition loss ---\n",
    "    y_pred_initial = model(x_initial)\n",
    "    initial_loss = torch.mean((y_pred_initial - y_initial) ** 2)\n",
    "\n",
    "    # --- Total loss = equation loss + initial condition loss + weighted constraint loss ---\n",
    "    total_loss = equation_loss + initial_loss + 0.1 * constraint_loss\n",
    "\n",
    "    # Backpropagation and optimization\n",
    "    total_loss.backward()\n",
    "    optimizer.step()\n",
    "\n",
    "    # Print loss every 1000 epochs\n",
    "    if epoch % 1000 == 0:\n",
    "        print(\n",
    "            f'Epoch {epoch:05d} | Total Loss: {total_loss.item():.4e} | '\n",
    "            f'Equation Loss: {equation_loss.item():.4e} | '\n",
    "            f'Initial Loss: {initial_loss.item():.4e} | '\n",
    "            f'Constraint Loss: {constraint_loss.item():.4e}'\n",
    "        )\n",
    "\n",
    "# Plot results\n",
    "x_test = torch.linspace(1, 1.2, 300).view(-1, 1)\n",
    "y_pred = model(x_test).detach().numpy()\n",
    "\n",
    "import os\n",
    "os.environ['KMP_DUPLICATE_LIB_OK'] = 'TRUE'\n",
    "\n",
    "# Exact solution\n",
    "y_exact = (np.log(x_test.numpy()))**2 + np.log(x_test.numpy())\n",
    "\n",
    "plt.figure(figsize=(8, 4))\n",
    "plt.plot(x_test, y_pred, 'b--', linewidth=2, label='PINN Prediction')\n",
    "plt.plot(x_test, y_exact, 'r-', linewidth=1, label='Exact Solution')\n",
    "plt.xlabel('Time t')\n",
    "plt.ylabel('Displacement u(t)')\n",
    "plt.legend()\n",
    "plt.title('Comparison of PINN and Exact Solution')\n",
    "plt.grid(True)\n",
    "plt.show()"
   ]
  },
  {
   "cell_type": "code",
   "execution_count": 2,
   "id": "879e040b",
   "metadata": {
    "ExecuteTime": {
     "end_time": "2025-05-11T06:31:38.935222Z",
     "start_time": "2025-05-11T06:31:38.007829Z"
    }
   },
   "outputs": [
    {
     "name": "stdout",
     "output_type": "stream",
     "text": [
      "R2_pinn: 0.8902105070456791, mae_pinn: 0.014713571406900883, rmse_pinn: 0.017607983201742172, inf_norm_pinn: 0.03576795756816864\n"
     ]
    }
   ],
   "source": [
    "from sklearn.metrics import mean_squared_error\n",
    "from sklearn.metrics import r2_score\n",
    "from sklearn.metrics import mean_absolute_error\n",
    "y_exact = y_exact.reshape(-1, 1)\n",
    "y_p_pinn = y_pred\n",
    "y_true = y_exact\n",
    "R2_pinn = r2_score(y_p_pinn, y_true)\n",
    "mae_pinn = mean_absolute_error(y_p_pinn, y_true)\n",
    "rmse_pinn = mean_squared_error(y_p_pinn, y_true, squared=False)\n",
    "inf_norm_pinn = np.linalg.norm(y_p_pinn - y_true, ord = np.inf)\n",
    "\n",
    "print(f\"R2_pinn: {R2_pinn}, mae_pinn: {mae_pinn}, rmse_pinn: {rmse_pinn}, inf_norm_pinn: {inf_norm_pinn}\")"
   ]
  },
  {
   "cell_type": "code",
   "execution_count": 3,
   "id": "15786e83",
   "metadata": {
    "ExecuteTime": {
     "end_time": "2025-05-11T06:31:39.449366Z",
     "start_time": "2025-05-11T06:31:38.936743Z"
    }
   },
   "outputs": [
    {
     "name": "stdout",
     "output_type": "stream",
     "text": [
      "数据已保存至 pinn_06.csv\n"
     ]
    }
   ],
   "source": [
    "import numpy as np\n",
    "import pandas as pd\n",
    "\n",
    "data_to_save = pd.DataFrame({\n",
    "    'x': x_test.flatten(),\n",
    "    'y_pred_pinn': y_p_pinn.flatten(),\n",
    "    'y_exact': y_true.flatten()\n",
    "})\n",
    "\n",
    "data_to_save.to_csv('pinn_06.csv', index=False)\n",
    "print(\" pinn_06.csv\")"
   ]
  },
  {
   "cell_type": "code",
   "execution_count": null,
   "id": "9fcc870e",
   "metadata": {},
   "outputs": [],
   "source": []
  }
 ],
 "metadata": {
  "kernelspec": {
   "display_name": "Python 3 (ipykernel)",
   "language": "python",
   "name": "python3"
  },
  "language_info": {
   "codemirror_mode": {
    "name": "ipython",
    "version": 3
   },
   "file_extension": ".py",
   "mimetype": "text/x-python",
   "name": "python",
   "nbconvert_exporter": "python",
   "pygments_lexer": "ipython3",
   "version": "3.9.12"
  }
 },
 "nbformat": 4,
 "nbformat_minor": 5
}
